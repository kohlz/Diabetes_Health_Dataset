{
  "cells": [
    {
      "cell_type": "markdown",
      "metadata": {
        "id": "dsJGttL6eMO6"
      },
      "source": [
        "# DS 3000 - Practicum 3\n",
        "\n",
        "**Student Name**: Julian Leonhardt, Vijay Sherring, Haozhe Zhu, Alysha Advani\n",
        "\n",
        "**Date**: 4/13/25"
      ]
    },
    {
      "cell_type": "markdown",
      "metadata": {
        "id": "W869_Sp1eMO7"
      },
      "source": [
        "## Question 1- The DS Problem\n",
        "- In your own words, formulate the Data Science problem\n",
        "\n",
        "We are tasked with looking at data called the \"CDC Diabetes Health Indicators.\" From this data, we will classify the target variables that indicate whether the patient is diabetic, pre-diabetic, or healthy. The variables in question include various influences affecting diabetes, such as age, location, race, etc. The data we will use was obtained from the Behavioral Risk Factor Surveillance System (BRFSS). The point of BRFSS is to collect data on a wide range of different health factors; today, we will be looking at diabetes, as the CDC estimates that millions of Americans are either unaware that they have diabetes or are pre-diabetic.  "
      ]
    },
    {
      "cell_type": "markdown",
      "metadata": {
        "id": "DcMiZJQReMO8"
      },
      "source": [
        "## Question 2- Prepare the Data\n",
        "\n",
        "- Evaluate the dataset to determine if ALL variables are represented in their expected type. Convert variables to suitable data types for ML modeling. This means that you need to identify categorical data, discrete and continuous variables represent them accordingly.\n",
        "\n",
        "- Analyze the data to determine what preprocessing steps are needed to ensure that the following are handled: 1) missing values, 2) invalid values, 3) outliers. Perform the required data preparation steps and justify the approach that is taken to prepare the data for analysis."
      ]
    },
    {
      "cell_type": "code",
      "execution_count": null,
      "metadata": {
        "id": "e4Gx5KpIeMO8",
        "outputId": "165f7838-8241-4815-d1e6-6eef0d3acf4b",
        "colab": {
          "base_uri": "https://localhost:8080/"
        }
      },
      "outputs": [
        {
          "output_type": "execute_result",
          "data": {
            "text/plain": [
              "(   Diabetes_012  HighBP  HighChol  CholCheck   BMI  Smoker  Stroke  \\\n",
              " 0           0.0     1.0       1.0        1.0  40.0     1.0     0.0   \n",
              " 1           0.0     0.0       0.0        0.0  25.0     1.0     0.0   \n",
              " 2           0.0     1.0       1.0        1.0  28.0     0.0     0.0   \n",
              " 3           0.0     1.0       0.0        1.0  27.0     0.0     0.0   \n",
              " 4           0.0     1.0       1.0        1.0  24.0     0.0     0.0   \n",
              " \n",
              "    HeartDiseaseorAttack  PhysActivity  Fruits  ...  AnyHealthcare  \\\n",
              " 0                   0.0           0.0     0.0  ...            1.0   \n",
              " 1                   0.0           1.0     0.0  ...            0.0   \n",
              " 2                   0.0           0.0     1.0  ...            1.0   \n",
              " 3                   0.0           1.0     1.0  ...            1.0   \n",
              " 4                   0.0           1.0     1.0  ...            1.0   \n",
              " \n",
              "    NoDocbcCost  GenHlth  MentHlth  PhysHlth  DiffWalk  Sex   Age  Education  \\\n",
              " 0          0.0      5.0      18.0      15.0       1.0  0.0   9.0        4.0   \n",
              " 1          1.0      3.0       0.0       0.0       0.0  0.0   7.0        6.0   \n",
              " 2          1.0      5.0      30.0      30.0       1.0  0.0   9.0        4.0   \n",
              " 3          0.0      2.0       0.0       0.0       0.0  0.0  11.0        3.0   \n",
              " 4          0.0      2.0       3.0       0.0       0.0  0.0  11.0        5.0   \n",
              " \n",
              "    Income  \n",
              " 0     3.0  \n",
              " 1     1.0  \n",
              " 2     8.0  \n",
              " 3     6.0  \n",
              " 4     4.0  \n",
              " \n",
              " [5 rows x 22 columns],\n",
              " Diabetes_012            float64\n",
              " HighBP                  float64\n",
              " HighChol                float64\n",
              " CholCheck               float64\n",
              " BMI                     float64\n",
              " Smoker                  float64\n",
              " Stroke                  float64\n",
              " HeartDiseaseorAttack    float64\n",
              " PhysActivity            float64\n",
              " Fruits                  float64\n",
              " Veggies                 float64\n",
              " HvyAlcoholConsump       float64\n",
              " AnyHealthcare           float64\n",
              " NoDocbcCost             float64\n",
              " GenHlth                 float64\n",
              " MentHlth                float64\n",
              " PhysHlth                float64\n",
              " DiffWalk                float64\n",
              " Sex                     float64\n",
              " Age                     float64\n",
              " Education               float64\n",
              " Income                  float64\n",
              " dtype: object)"
            ]
          },
          "metadata": {},
          "execution_count": 1
        }
      ],
      "source": [
        "import pandas as pd\n",
        "\n",
        "# Load the data into the document\n",
        "diabetes_df = pd.read_csv(\"/content/diabetes_012_health_indicators_BRFSS2015.csv\")\n",
        "\n",
        "# Checking the types of variables\n",
        "diabetes_df.head(), diabetes_df.dtypes"
      ]
    },
    {
      "cell_type": "code",
      "execution_count": null,
      "metadata": {
        "id": "e1L-Olw6eMO9",
        "colab": {
          "base_uri": "https://localhost:8080/",
          "height": 607
        },
        "outputId": "f5dc1513-be6a-4c34-de1b-7c2c01dafe62"
      },
      "outputs": [
        {
          "output_type": "display_data",
          "data": {
            "text/plain": [
              "<Figure size 1400x600 with 2 Axes>"
            ],
            "image/png": "[encoded data removed]"
          },
          "metadata": {}
        }
      ],
      "source": [
        "import matplotlib.pyplot as plt\n",
        "import seaborn as sns\n",
        "\n",
        "fig, axes = plt.subplots(1,2, figsize=(14, 6))\n",
        "sns.boxplot(x=diabetes_df['Age'], ax=axes[0])\n",
        "sns.boxplot(x=diabetes_df['BMI'], ax=axes[1])\n",
        "\n",
        "axes[0].set_title('Age Distribution')\n",
        "axes[1].set_title('BMI Distribution')\n",
        "\n",
        "plt.tight_layout()\n",
        "plt.show()\n"
      ]
    },
    {
      "cell_type": "markdown",
      "metadata": {
        "id": "8liUfgK8eMO9"
      },
      "source": [
        "## Analysis of distribution\n",
        "\n",
        "Here we are checking for invalid values: For the age distribution, there appear to be some outliers, which we can tell from the long tails in the boxplot. However, no extreme values fall out of the normal range. There also seem to be very few outliers for the BMI distribution, but the main distribution falls within a reasonable range. As BMI is a measure base on the persons weight and height outliers are expected when dealing with this kind of data.  \n",
        "\n"
      ]
    },
    {
      "cell_type": "code",
      "execution_count": null,
      "metadata": {
        "id": "m330Ct4neMO9",
        "colab": {
          "base_uri": "https://localhost:8080/",
          "height": 1000
        },
        "outputId": "c48e1aca-5d68-4aab-9f61-112259beb5f5"
      },
      "outputs": [
        {
          "output_type": "display_data",
          "data": {
            "text/plain": [
              "<Figure size 640x480 with 1 Axes>"
            ],
            "image/png": "[encoded data removed]"
          },
          "metadata": {}
        },
        {
          "output_type": "execute_result",
          "data": {
            "text/plain": [
              "Diabetes_012            category\n",
              "HighBP                  category\n",
              "HighChol                category\n",
              "CholCheck               category\n",
              "BMI                      float64\n",
              "Smoker                  category\n",
              "Stroke                  category\n",
              "HeartDiseaseorAttack    category\n",
              "PhysActivity            category\n",
              "Fruits                  category\n",
              "Veggies                 category\n",
              "HvyAlcoholConsump       category\n",
              "AnyHealthcare           category\n",
              "NoDocbcCost             category\n",
              "GenHlth                  float64\n",
              "MentHlth                 float64\n",
              "PhysHlth                 float64\n",
              "DiffWalk                category\n",
              "Sex                     category\n",
              "Age                      float64\n",
              "Education               category\n",
              "Income                   float64\n",
              "dtype: object"
            ],
            "text/html": [
              "<div>\n",
              "<style scoped>\n",
              "    .dataframe tbody tr th:only-of-type {\n",
              "        vertical-align: middle;\n",
              "    }\n",
              "\n",
              "    .dataframe tbody tr th {\n",
              "        vertical-align: top;\n",
              "    }\n",
              "\n",
              "    .dataframe thead th {\n",
              "        text-align: right;\n",
              "    }\n",
              "</style>\n",
              "<table border=\"1\" class=\"dataframe\">\n",
              "  <thead>\n",
              "    <tr style=\"text-align: right;\">\n",
              "      <th></th>\n",
              "      <th>0</th>\n",
              "    </tr>\n",
              "  </thead>\n",
              "  <tbody>\n",
              "    <tr>\n",
              "      <th>Diabetes_012</th>\n",
              "      <td>category</td>\n",
              "    </tr>\n",
              "    <tr>\n",
              "      <th>HighBP</th>\n",
              "      <td>category</td>\n",
              "    </tr>\n",
              "    <tr>\n",
              "      <th>HighChol</th>\n",
              "      <td>category</td>\n",
              "    </tr>\n",
              "    <tr>\n",
              "      <th>CholCheck</th>\n",
              "      <td>category</td>\n",
              "    </tr>\n",
              "    <tr>\n",
              "      <th>BMI</th>\n",
              "      <td>float64</td>\n",
              "    </tr>\n",
              "    <tr>\n",
              "      <th>Smoker</th>\n",
              "      <td>category</td>\n",
              "    </tr>\n",
              "    <tr>\n",
              "      <th>Stroke</th>\n",
              "      <td>category</td>\n",
              "    </tr>\n",
              "    <tr>\n",
              "      <th>HeartDiseaseorAttack</th>\n",
              "      <td>category</td>\n",
              "    </tr>\n",
              "    <tr>\n",
              "      <th>PhysActivity</th>\n",
              "      <td>category</td>\n",
              "    </tr>\n",
              "    <tr>\n",
              "      <th>Fruits</th>\n",
              "      <td>category</td>\n",
              "    </tr>\n",
              "    <tr>\n",
              "      <th>Veggies</th>\n",
              "      <td>category</td>\n",
              "    </tr>\n",
              "    <tr>\n",
              "      <th>HvyAlcoholConsump</th>\n",
              "      <td>category</td>\n",
              "    </tr>\n",
              "    <tr>\n",
              "      <th>AnyHealthcare</th>\n",
              "      <td>category</td>\n",
              "    </tr>\n",
              "    <tr>\n",
              "      <th>NoDocbcCost</th>\n",
              "      <td>category</td>\n",
              "    </tr>\n",
              "    <tr>\n",
              "      <th>GenHlth</th>\n",
              "      <td>float64</td>\n",
              "    </tr>\n",
              "    <tr>\n",
              "      <th>MentHlth</th>\n",
              "      <td>float64</td>\n",
              "    </tr>\n",
              "    <tr>\n",
              "      <th>PhysHlth</th>\n",
              "      <td>float64</td>\n",
              "    </tr>\n",
              "    <tr>\n",
              "      <th>DiffWalk</th>\n",
              "      <td>category</td>\n",
              "    </tr>\n",
              "    <tr>\n",
              "      <th>Sex</th>\n",
              "      <td>category</td>\n",
              "    </tr>\n",
              "    <tr>\n",
              "      <th>Age</th>\n",
              "      <td>float64</td>\n",
              "    </tr>\n",
              "    <tr>\n",
              "      <th>Education</th>\n",
              "      <td>category</td>\n",
              "    </tr>\n",
              "    <tr>\n",
              "      <th>Income</th>\n",
              "      <td>float64</td>\n",
              "    </tr>\n",
              "  </tbody>\n",
              "</table>\n",
              "</div><br><label><b>dtype:</b> object</label>"
            ]
          },
          "metadata": {},
          "execution_count": 3
        }
      ],
      "source": [
        "# Clipping the outliers\n",
        "diabetes_df['BMI'] = diabetes_df['BMI'].clip(lower=10, upper=60)\n",
        "\n",
        "sns.boxplot(x = diabetes_df['BMI'])\n",
        "plt.title('BMI Distribution after clipping')\n",
        "plt.show()\n",
        "\n",
        "# Change all of the necessary types to categorical\n",
        "categorical_columns = [\n",
        "    'Sex', 'Education', 'Diabetes_012', 'HighBP', 'HighChol', 'CholCheck', 'Smoker',\n",
        "    'Stroke', 'HeartDiseaseorAttack', 'PhysActivity', 'Fruits', 'Veggies',\n",
        "    'HvyAlcoholConsump', 'AnyHealthcare', 'NoDocbcCost', 'DiffWalk'\n",
        "]\n",
        "\n",
        "diabetes_df[categorical_columns] = diabetes_df[categorical_columns].apply(lambda x: x.astype('category'))\n",
        "\n",
        "\n",
        "diabetes_df.dtypes\n",
        "\n",
        "\n"
      ]
    },
    {
      "cell_type": "markdown",
      "metadata": {
        "id": "lvDuhnRbeMO9"
      },
      "source": [
        "## Analysis of type changes\n",
        "Here, we are changing all of the types that need to be changed. After looking at the documentation, the data labeled \"binary\" could be switched to categorical, while the ones labeled \"Integer\" can be left as they were imported.\n",
        "\n",
        "For the outliers on BMI, we researched the standard range of BMI and what numbers were acceptable and found the range to be 10-60, so with that being said, we snipped all of the outliers that did not belong, as those would affect our data.\n"
      ]
    },
    {
      "cell_type": "markdown",
      "metadata": {
        "id": "HcsjIeo5eMO-"
      },
      "source": [
        "## Question 3\n",
        "- Perform exploratory data analysis. Ensure that you analyze the relationships between the various features and the diabetic outcomes. Create visualizations to demonstrate your findings and explain the results. This is a 20pt question and requires detailed analyses and visualizations.\n",
        "\n",
        "1. First we want to analyze the distribution of the Diabetes_012 variable, which is understood to be the target. By looking at this,s we can understand the distribution of diabetic, pre-diabetic, and healthy individuals\n"
      ]
    },
    {
      "cell_type": "code",
      "execution_count": null,
      "metadata": {
        "id": "saklcfYreMO-",
        "colab": {
          "base_uri": "https://localhost:8080/",
          "height": 564
        },
        "outputId": "aba4709c-4032-4dae-8812-d93f67ec6807"
      },
      "outputs": [
        {
          "output_type": "display_data",
          "data": {
            "text/plain": [
              "<Figure size 800x600 with 1 Axes>"
            ],
            "image/png": "[encoded data removed]"
          },
          "metadata": {}
        }
      ],
      "source": [
        "\n",
        "plt.figure(figsize=(8,6))\n",
        "# Bar plot for distribution of diabetes\n",
        "sns.countplot(x='Diabetes_012', data=diabetes_df, hue='Diabetes_012', legend=False )\n",
        "plt.title('Distribution of Diabetes outcome')\n",
        "plt.xlabel('Diabetes outcome')\n",
        "plt.ylabel('Count')\n",
        "plt.xticks([0,1,2], ['Healthy', 'Pre-dabetic', 'Diabetic'])\n",
        "plt.show()\n",
        "\n"
      ]
    },
    {
      "cell_type": "markdown",
      "metadata": {
        "id": "H94k0DyueMO-"
      },
      "source": [
        "The plot above shows that the distribution of Diabetes_012 is heavily skewed toward healthy individuals. Only a small number of people are pre-diabetic, and a substantial number are diabetic.\n",
        "\n",
        "\n",
        "\n",
        "Next, we will look at the univariate analysis of continuous variables such as age and BMI and their distributions.  \n"
      ]
    },
    {
      "cell_type": "code",
      "execution_count": null,
      "metadata": {
        "id": "9rSgx4GmeMO-",
        "colab": {
          "base_uri": "https://localhost:8080/",
          "height": 607
        },
        "outputId": "c01461b4-72af-498b-ad49-a55034d8c891"
      },
      "outputs": [
        {
          "output_type": "display_data",
          "data": {
            "text/plain": [
              "<Figure size 1400x600 with 2 Axes>"
            ],
            "image/png": "[encoded data removed]"
          },
          "metadata": {}
        }
      ],
      "source": [
        "# Explores the distribution of\n",
        "\n",
        "fig, axes = plt.subplots(1,2, figsize=(14,6))\n",
        "\n",
        "# Age distribution\n",
        "sns.histplot(diabetes_df['Age'], kde=True, color='skyblue', ax=axes[0])\n",
        "axes[0].set_title('Age Distribution')\n",
        "axes[0].set_xlabel('Age')\n",
        "axes[0].set_ylabel('Frequency')\n",
        "\n",
        "# BMI distribution\n",
        "sns.histplot(diabetes_df['BMI'], kde=True, color='orange', ax=axes[1])\n",
        "axes[1].set_title('BMI Distribution')\n",
        "axes[1].set_xlabel('BMI')\n",
        "axes[1].set_ylabel('Frequency')\n",
        "\n",
        "plt.tight_layout()\n",
        "plt.show()\n",
        "\n"
      ]
    },
    {
      "cell_type": "markdown",
      "metadata": {
        "id": "e_cXQ_YGeMO-"
      },
      "source": [
        "## Analysis\n",
        "Age distribution: The age distribution appears to be fairly normal with a slight skew. But as we can see that most of the data set is targeted towards younger individuals.\n",
        "\n",
        "BMI distribution: The BMI is definitely more skewed with a peak around the middle values but also has some extreme values that are tailored towards the higher end.\n"
      ]
    },
    {
      "cell_type": "markdown",
      "metadata": {
        "id": "cWpbhWV8eMO-"
      },
      "source": [
        "## AGE AND BMI RELATE TO TARGET\n",
        "\n",
        "We will explore how age and BMI relate to the target variable. We will seek this relationship with boxplots, which will examine how the distribution of these continuous variables differs between the categories of Healthy, Pre-diabetic, and diabetic.\n"
      ]
    },
    {
      "cell_type": "code",
      "execution_count": null,
      "metadata": {
        "id": "DmZpefyReMO_",
        "colab": {
          "base_uri": "https://localhost:8080/",
          "height": 607
        },
        "outputId": "b7b42ef4-9974-4151-98e2-dfda09c8c3f6"
      },
      "outputs": [
        {
          "output_type": "display_data",
          "data": {
            "text/plain": [
              "<Figure size 1400x600 with 2 Axes>"
            ],
            "image/png": "[encoded data removed]"
          },
          "metadata": {}
        }
      ],
      "source": [
        "fig, axes = plt.subplots(1,2, figsize=(14,6))\n",
        "\n",
        "#Boxplot for age vs diabetes\n",
        "sns.boxplot(x='Diabetes_012', y='Age', data=diabetes_df, hue='Diabetes_012', legend=False, ax=axes[0])\n",
        "axes[0].set_title('Age Distribution by diabetes')\n",
        "axes[0].set_xlabel('Diabetes outcome')\n",
        "axes[0].set_ylabel('Age')\n",
        "\n",
        "#Boxplot for BMI vs diabete\n",
        "sns.boxplot(x='Diabetes_012', y='BMI', data=diabetes_df, hue='Diabetes_012', legend=False, ax=axes[1])\n",
        "axes[1].set_title('BMI Distribution by diabetes')\n",
        "axes[1].set_xlabel('Diabetes outcome')\n",
        "axes[1].set_ylabel('BMI')\n",
        "\n",
        "\n",
        "plt.tight_layout()\n",
        "plt.show()\n",
        "\n"
      ]
    },
    {
      "cell_type": "markdown",
      "metadata": {
        "id": "Ax3t9yMWeMO_"
      },
      "source": [
        "## Analysis\n",
        "\n",
        "Age Vs Diabetes outcome: The age distribution shows a clear difference between the groups. Diabetic individuals tend to be older, with a higher median age. Healthier folks tend to be more concentrated around the younger ages and pre-diabetic individuals apper to have a broader age range, overlapping with both diabetic and healthy individuals.\n",
        "\n",
        "BMI vs. Diabetes: Diabetic people tend to have a higher BMI than healthier people, which is expected. Pre-diabetic people tend to have a BMI that overlaps with that of both healthy and diabetic people, and healthy individuals tend to have a lower BMI.\n",
        "\n",
        "Next, we are gonna look at categorical variables and move away from continous. For the following we are gonna look at Sex, smoker, and PhysActivity and how they relate to the target variable.  "
      ]
    },
    {
      "cell_type": "code",
      "execution_count": null,
      "metadata": {
        "id": "ghY794xJeMO_",
        "colab": {
          "base_uri": "https://localhost:8080/",
          "height": 582
        },
        "outputId": "0dcecef1-65d1-4d8f-d713-ac6b7c149e27"
      },
      "outputs": [
        {
          "output_type": "execute_result",
          "data": {
            "text/plain": [
              "Text(0, 0.5, 'Count')"
            ]
          },
          "metadata": {},
          "execution_count": 7
        },
        {
          "output_type": "display_data",
          "data": {
            "text/plain": [
              "<Figure size 1800x600 with 3 Axes>"
            ],
            "image/png": "[encoded data removed]"
          },
          "metadata": {}
        }
      ],
      "source": [
        "\n",
        "fig, axes = plt.subplots(1,3, figsize=(18,6))\n",
        "\n",
        "#bar plot for sex vs diabetes\n",
        "sns.countplot(x='Diabetes_012', hue='Sex', data=diabetes_df, legend=False, ax=axes[0])\n",
        "axes[0].set_title('Diabetes outcome by sex')\n",
        "axes[0].set_xlabel('Diabetes outcome')\n",
        "axes[0].set_ylabel('Count')\n",
        "\n",
        "#bar plot for Smoker vs diabetes\n",
        "sns.countplot(x='Diabetes_012', hue='Smoker', data=diabetes_df, legend=False, ax=axes[1])\n",
        "axes[1].set_title('Diabetes outcome by Smoker')\n",
        "axes[1].set_xlabel('Diabetes outcome')\n",
        "axes[1].set_ylabel('Count')\n",
        "\n",
        "#bar plot for PhysActivity vs diabetes\n",
        "sns.countplot(x='Diabetes_012', hue='PhysActivity', data=diabetes_df, legend=False, ax=axes[2])\n",
        "axes[2].set_title('Diabetes outcome by PhysActivity')\n",
        "axes[2].set_xlabel('Diabetes outcome')\n",
        "axes[2].set_ylabel('Count')\n",
        "\n",
        "\n"
      ]
    },
    {
      "cell_type": "markdown",
      "metadata": {
        "id": "QBMKFLnweMPA"
      },
      "source": [
        "## Analysis\n",
        "Sex vs disbetes outcome: The distribution across sex categories are similar, but we can see a slight difference. For example the diabetic group has a pretty even distribution between sexs, while there are slightly more healthy males then females.\n",
        "\n",
        "Smoker vs diabetes outcome: The general take away is that smokers are more likly to be diabetic compared to non-smokers. Even in the pre-diabetic this is a noticable amount of smokers.\n",
        "\n",
        "Physical movement vs diabetes: As expected the healthier folks tend to be more physically active than not. But we also see an intresting trend where the diabetic also tend to have more people who are physically active then not.\n",
        "\n",
        "Now we will preform a correlation analysis to identify how stronly the countinous features are actually related to the target variable. We will be using a heat map for this are is will be helpful to visualize these correlations.\n"
      ]
    },
    {
      "cell_type": "code",
      "execution_count": null,
      "metadata": {
        "id": "vY99ijkQeMPA",
        "outputId": "0102d61e-d26b-4cd9-c8c6-c2e95e554b04",
        "colab": {
          "base_uri": "https://localhost:8080/",
          "height": 545
        }
      },
      "outputs": [
        {
          "output_type": "display_data",
          "data": {
            "text/plain": [
              "<Figure size 800x600 with 2 Axes>"
            ],
            "image/png": "[encoded data removed]"
          },
          "metadata": {}
        }
      ],
      "source": [
        "# Correlation matrix for continous vars\n",
        "countinuous_features = ['BMI', 'GenHlth', 'MentHlth', 'PhysHlth', 'Age', 'Income']\n",
        "\n",
        "# Calc the matrix\n",
        "correlation_matrix = diabetes_df[countinuous_features].corr()\n",
        "\n",
        "# Plot\n",
        "plt.figure(figsize=(8,6))\n",
        "sns.heatmap(correlation_matrix, annot=True, cmap='coolwarm', fmt='2f', linewidths=0.5)\n",
        "plt.title('Correlation Heatmap of Continuous Features')\n",
        "plt.show()\n",
        "\n"
      ]
    },
    {
      "cell_type": "markdown",
      "metadata": {
        "id": "_GlABRXWeMPA"
      },
      "source": [
        "## Analysis\n",
        "\n",
        "There is a strong postive correlation between GenHealth and Physical health which makes sense are those two should be correlated. There is a pretty strong negitive correlation between GenHealth and income which is an unfortunate truth that income often times dicates how healthy a person can become. The rest of the correlations are pretty modest and aren't able to tell us too much.\n",
        "\n",
        "Key Findings from the EDA:\n",
        "1. The target vairable(Diabetes_012): It seems that the majority of people within the dataset are healthy people, with a smaller sub group being pre-diabetic and diabetic.\n",
        "2. Age and BMI: The older the age and the higher the BMI are strongly correlated with being diabetic. These variables could be important when looking at target vairble classification\n",
        "3. Smoker and health: Smokers then to have higher rates of diabetee compared to those who do not smoke, highlighting the negative healthy impact of smoking.\n",
        "4. There is a clear relationship between the income of indiviuals and their overall health, meaning that income could also be an indicator of diabetes.\n"
      ]
    },
    {
      "cell_type": "markdown",
      "source": [
        "## Question 4a:\n",
        "- Perform significance tests to determine if the patterns that are detected above are statistically significant. Ensure that you discuss at least three patterns and the respective p-values.\n",
        "\n",
        "- Select the features that will be used in the ML models (i.e. your selected features should be based on analytical reasoning that demonstrates their utility for ML modeling. Do not arbitrarily select features.\n",
        "Note: if you are using correlations, ensure that this is only performed using continuous variables."
      ],
      "metadata": {
        "id": "kMfIqe9Jgm3C"
      }
    },
    {
      "cell_type": "code",
      "source": [
        "from scipy.stats import ttest_ind\n",
        "\n",
        "# Subsets for Healthy (0) and Diabetic (2)\n",
        "healthy = diabetes_df[diabetes_df['Diabetes_012'] == 0]\n",
        "diabetic = diabetes_df[diabetes_df['Diabetes_012'] == 2]\n",
        "\n",
        "# 1. Age comparison\n",
        "t_stat_age, p_val_age = ttest_ind(healthy['Age'], diabetic['Age'], equal_var=False)\n",
        "print(\"T-Test: Age between Healthy and Diabetic\")\n",
        "print(f\"P-value: {p_val_age:.4e}\")\n",
        "print(\"→\", \"Significant difference\\n\" if p_val_age < 0.05 else \"No significant difference\\n\")\n"
      ],
      "metadata": {
        "id": "GjBGlfRJg6aA",
        "colab": {
          "base_uri": "https://localhost:8080/"
        },
        "outputId": "e4a4c3c0-6a61-4fc7-993f-be44db01d362"
      },
      "execution_count": null,
      "outputs": [
        {
          "output_type": "stream",
          "name": "stdout",
          "text": [
            "T-Test: Age between Healthy and Diabetic\n",
            "P-value: 0.0000e+00\n",
            "→ Significant difference\n",
            "\n"
          ]
        }
      ]
    },
    {
      "cell_type": "code",
      "source": [
        "# 2. BMI comparison\n",
        "t_stat_bmi, p_val_bmi = ttest_ind(healthy['BMI'], diabetic['BMI'], equal_var=False)\n",
        "print(\"T-Test: BMI between Healthy and Diabetic\")\n",
        "print(f\"P-value: {p_val_bmi:.4e}\")\n",
        "print(\"→\", \"Significant difference\\n\" if p_val_bmi < 0.05 else \"No significant difference\\n\")"
      ],
      "metadata": {
        "id": "QgrK6KjZg-yB",
        "colab": {
          "base_uri": "https://localhost:8080/"
        },
        "outputId": "ca3140d7-f06e-45ea-f9f1-bbff893dbd69"
      },
      "execution_count": null,
      "outputs": [
        {
          "output_type": "stream",
          "name": "stdout",
          "text": [
            "T-Test: BMI between Healthy and Diabetic\n",
            "P-value: 0.0000e+00\n",
            "→ Significant difference\n",
            "\n"
          ]
        }
      ]
    },
    {
      "cell_type": "code",
      "source": [
        "# 3. Physical Activity comparison\n",
        "t_stat_pa, p_val_pa = ttest_ind(healthy['PhysActivity'], diabetic['PhysActivity'], equal_var=False)\n",
        "print(\"T-Test: Physical Activity between Healthy and Diabetic\")\n",
        "print(f\"P-value: {p_val_pa:.4e}\")\n",
        "print(\"→\", \"Significant difference\\n\" if p_val_pa < 0.05 else \"No significant difference\\n\")"
      ],
      "metadata": {
        "id": "tIztASMFhBmB",
        "colab": {
          "base_uri": "https://localhost:8080/"
        },
        "outputId": "2b766c77-5750-4565-f822-de2f916afc52"
      },
      "execution_count": null,
      "outputs": [
        {
          "output_type": "stream",
          "name": "stdout",
          "text": [
            "T-Test: Physical Activity between Healthy and Diabetic\n",
            "P-value: 0.0000e+00\n",
            "→ Significant difference\n",
            "\n"
          ]
        }
      ]
    },
    {
      "cell_type": "code",
      "source": [
        "binary_features = [\n",
        "    'HighBP', 'HighChol', 'PhysActivity', 'HeartDiseaseorAttack',\n",
        "    'Smoker', 'DiffWalk', 'Fruits', 'Veggies'\n",
        "]\n",
        "\n",
        "# Subset groups\n",
        "healthy = diabetes_df[diabetes_df['Diabetes_012'] == 0]\n",
        "diabetic = diabetes_df[diabetes_df['Diabetes_012'] == 2]\n",
        "\n",
        "# Run t-tests for each binary feature\n",
        "print(\"T-Tests (Healthy vs Diabetic):\\n\")\n",
        "for feature in binary_features:\n",
        "    stat, p = ttest_ind(healthy[feature], diabetic[feature], equal_var=False)\n",
        "    print(f\" P-value: {p:.4e} | {'Significant' if p < 0.05 else 'Not significant'}\")"
      ],
      "metadata": {
        "id": "qTWP9kXShJxi",
        "colab": {
          "base_uri": "https://localhost:8080/"
        },
        "outputId": "ec44508a-ce3a-4e00-9320-0dc7b1d2c106"
      },
      "execution_count": null,
      "outputs": [
        {
          "output_type": "stream",
          "name": "stdout",
          "text": [
            "T-Tests (Healthy vs Diabetic):\n",
            "\n",
            " P-value: 0.0000e+00 | Significant\n",
            " P-value: 0.0000e+00 | Significant\n",
            " P-value: 0.0000e+00 | Significant\n",
            " P-value: 0.0000e+00 | Significant\n",
            " P-value: 1.3835e-207 | Significant\n",
            " P-value: 0.0000e+00 | Significant\n",
            " P-value: 2.0932e-92 | Significant\n",
            " P-value: 1.0877e-156 | Significant\n"
          ]
        }
      ]
    },
    {
      "cell_type": "markdown",
      "source": [
        "## Question 5:\n",
        "- Partition the data into train/test sets. After which, perform the following:\n",
        "\n",
        "  - encode any categorical data. Ensure that categorical variables are represented correctly.\n",
        "  - normalize numeric data.\n",
        "  \n",
        "Tip: Ensure that you use sklearn to normalize and/or encode the training data, after which transform the test set (there is an example in the lecture)."
      ],
      "metadata": {
        "id": "k_1VOOWrhPFS"
      }
    },
    {
      "cell_type": "code",
      "source": [
        "from sklearn.model_selection import train_test_split\n",
        "from sklearn.preprocessing import StandardScaler\n",
        "\n",
        "# Select features and target\n",
        "selected_features = [\n",
        "    'Age', 'BMI', 'GenHlth', 'PhysHlth',\n",
        "    'HighBP', 'HighChol', 'PhysActivity',\n",
        "    'HeartDiseaseorAttack', 'Smoker', 'DiffWalk',\n",
        "    'Fruits', 'Veggies', 'Education', 'Income'\n",
        "]\n",
        "\n",
        "X = diabetes_df[selected_features]\n",
        "y = diabetes_df['Diabetes_012']\n",
        "\n",
        "# Split into train and test\n",
        "X_train, X_test, y_train, y_test = train_test_split(\n",
        "    X, y, test_size=0.2, random_state=42, stratify=y\n",
        ")\n",
        "\n",
        "# Normalize numeric features (fit on train, transform on test)\n",
        "scaler = StandardScaler()\n",
        "X_train_scaled = scaler.fit_transform(X_train)\n",
        "X_test_scaled = scaler.transform(X_test)\n"
      ],
      "metadata": {
        "id": "HA1FHuIwhZPt"
      },
      "execution_count": null,
      "outputs": []
    },
    {
      "cell_type": "markdown",
      "source": [
        "## Question 6:\n",
        "- Build the ML model that predicts the target variable based on the selected features. Ensure that you:\n",
        "  - Demonstrate the training, evaluation and tuning for at least three algorithms that can handle non linear data and multiple input features/variables. NOTE: you can only select one tree-based algorithm and you must select multiple input features for the ML modeling.\n",
        "  - Use GridSearchCV to tune at least two hyperparameters for each algorithm.\n",
        "  - Note: do not change the input features in your experiments."
      ],
      "metadata": {
        "id": "elpMuzRxhtda"
      }
    },
    {
      "cell_type": "markdown",
      "source": [
        "I choose k-neighbors Classification, CART as first two algorithms for training model. This is because these two algorithms perfectly fit the requirement of handle non-linear data and accept multiple input features. The choice of third algorithm will be discussed later."
      ],
      "metadata": {
        "id": "9ElVZA-6Vdul"
      }
    },
    {
      "cell_type": "code",
      "source": [
        "from sklearn.model_selection import train_test_split\n",
        "from sklearn.preprocessing import StandardScaler\n",
        "from sklearn.neighbors import KNeighborsClassifier\n",
        "from sklearn.tree import DecisionTreeClassifier\n",
        "from sklearn.svm import SVC\n",
        "from sklearn.metrics import balanced_accuracy_score, classification_report\n",
        "from sklearn.model_selection import GridSearchCV\n",
        "from sklearn.metrics import r2_score, mean_squared_error, mean_absolute_error\n",
        "import numpy as np"
      ],
      "metadata": {
        "id": "6_QJ8tXKh40e"
      },
      "execution_count": null,
      "outputs": []
    },
    {
      "cell_type": "code",
      "source": [
        "# default kNN\n",
        "knn = KNeighborsClassifier()\n",
        "knn.fit(X_train_scaled, y_train)\n",
        "y_pred_knn = knn.predict(X_test_scaled)\n",
        "\n",
        "print(\"=\"*40)\n",
        "print(\"k-NN result\")\n",
        "print(\"=\"*40)\n",
        "print(f\"balenced accuracy: {balanced_accuracy_score(y_test, y_pred_knn):.4f}\")\n",
        "print(\"classification_report:\")\n",
        "print(classification_report(y_test, y_pred_knn, target_names=['Healthy', 'Prediabetic', 'Diabetic']))"
      ],
      "metadata": {
        "id": "1qjOG2QIGebe",
        "colab": {
          "base_uri": "https://localhost:8080/"
        },
        "outputId": "922c550f-6a4c-4b94-d649-b715ae58e6f9"
      },
      "execution_count": null,
      "outputs": [
        {
          "output_type": "stream",
          "name": "stdout",
          "text": [
            "========================================\n",
            "k-NN result\n",
            "========================================\n",
            "balenced accuracy: 0.3880\n",
            "classification_report:\n",
            "              precision    recall  f1-score   support\n",
            "\n",
            "     Healthy       0.86      0.95      0.91     42741\n",
            " Prediabetic       0.02      0.00      0.00       926\n",
            "    Diabetic       0.41      0.21      0.28      7069\n",
            "\n",
            "    accuracy                           0.83     50736\n",
            "   macro avg       0.43      0.39      0.40     50736\n",
            "weighted avg       0.79      0.83      0.80     50736\n",
            "\n"
          ]
        }
      ]
    },
    {
      "cell_type": "code",
      "source": [
        "# default CART\n",
        "cart = DecisionTreeClassifier(random_state=42)\n",
        "cart.fit(X_train_scaled, y_train)\n",
        "y_pred_cart = cart.predict(X_test_scaled)\n",
        "\n",
        "print(\"=\"*40)\n",
        "print(\"CART result\")\n",
        "print(\"=\"*40)\n",
        "print(f\"balanced accuracy: {balanced_accuracy_score(y_test, y_pred_cart):.4f}\")\n",
        "print(\"classification report:\")\n",
        "print(classification_report(y_test, y_pred_cart, target_names=['Healthy', 'Prediabetic', 'Diabetic']))\n"
      ],
      "metadata": {
        "id": "hmF6R87IGe40",
        "colab": {
          "base_uri": "https://localhost:8080/"
        },
        "outputId": "f96711a7-5b6c-4528-c7dc-61b793ac0c7c"
      },
      "execution_count": null,
      "outputs": [
        {
          "output_type": "stream",
          "name": "stdout",
          "text": [
            "========================================\n",
            "CART result\n",
            "========================================\n",
            "balanced accuracy: 0.4016\n",
            "classification report:\n",
            "              precision    recall  f1-score   support\n",
            "\n",
            "     Healthy       0.87      0.87      0.87     42741\n",
            " Prediabetic       0.03      0.03      0.03       926\n",
            "    Diabetic       0.30      0.30      0.30      7069\n",
            "\n",
            "    accuracy                           0.77     50736\n",
            "   macro avg       0.40      0.40      0.40     50736\n",
            "weighted avg       0.78      0.77      0.78     50736\n",
            "\n"
          ]
        }
      ]
    },
    {
      "cell_type": "code",
      "source": [
        "# 1. k-NN tune\n",
        "knn = KNeighborsClassifier()\n",
        "knn_params = {\n",
        "    'n_neighbors': [3, 5, 7],  # Use odd number to avoid tie\n",
        "    'weights': ['uniform', 'distance'],\n",
        "}\n",
        "knn_grid = GridSearchCV(knn, knn_params, cv=5, scoring='balanced_accuracy', n_jobs=-1)\n",
        "knn_grid.fit(X_train_scaled, y_train)\n",
        "print(\"k-NN Best Params:\", knn_grid.best_params_)"
      ],
      "metadata": {
        "id": "hlD_0hJJ9ATR",
        "colab": {
          "base_uri": "https://localhost:8080/"
        },
        "outputId": "6553ee3c-19cb-41a6-9874-1d9cb7d2880b"
      },
      "execution_count": null,
      "outputs": [
        {
          "output_type": "stream",
          "name": "stdout",
          "text": [
            "k-NN Best Params: {'n_neighbors': 3, 'weights': 'distance'}\n"
          ]
        }
      ]
    },
    {
      "cell_type": "code",
      "source": [
        "# 2. CART tune\n",
        "tree = DecisionTreeClassifier(random_state=42)\n",
        "tree_params = {\n",
        "    'max_depth': [3, 5, 7, None],\n",
        "    'min_samples_split': [10, 20, 30],\n",
        "    'criterion': ['gini', 'entropy'],\n",
        "    'class_weight': [None, 'balanced']\n",
        "}\n",
        "tree_grid = GridSearchCV(tree, tree_params, cv=5, scoring='balanced_accuracy', n_jobs=-1)\n",
        "tree_grid.fit(X_train, y_train)\n",
        "print(\"Tree Best Params:\", tree_grid.best_params_)"
      ],
      "metadata": {
        "id": "1lUU_sH8PESb",
        "colab": {
          "base_uri": "https://localhost:8080/"
        },
        "outputId": "39e650a6-2471-4405-9be8-f39239c6112f"
      },
      "execution_count": null,
      "outputs": [
        {
          "output_type": "stream",
          "name": "stdout",
          "text": [
            "Tree Best Params: {'class_weight': 'balanced', 'criterion': 'entropy', 'max_depth': 5, 'min_samples_split': 10}\n"
          ]
        }
      ]
    },
    {
      "cell_type": "code",
      "source": [
        "# a method for evaluation\n",
        "def evaluate_model(model, X_test, y_test):\n",
        "    y_pred = model.predict(X_test)\n",
        "    print(f\"Balanced Accuracy: {balanced_accuracy_score(y_test, y_pred):.3f}\")\n",
        "    print(classification_report(y_test, y_pred, target_names=['Healthy', 'Prediabetic', 'Diabetic'], zero_division=0))\n",
        "    print(\"R2 score: \", r2_score(y_test, y_pred))\n",
        "    print(\"MSE: \", mean_squared_error(y_test, y_pred))\n",
        "    print(\"MAE: \", mean_absolute_error(y_test, y_pred))"
      ],
      "metadata": {
        "id": "lQrOC7UgaL86"
      },
      "execution_count": null,
      "outputs": []
    },
    {
      "cell_type": "code",
      "source": [
        "tun_knn_result = evaluate_model(knn_grid.best_estimator_, X_test_scaled, y_test)\n",
        "tun_knn_result"
      ],
      "metadata": {
        "id": "WKea6qmuEtbU",
        "colab": {
          "base_uri": "https://localhost:8080/"
        },
        "outputId": "457dcb17-564e-4e03-8c42-4de5dd08bab0"
      },
      "execution_count": null,
      "outputs": [
        {
          "output_type": "stream",
          "name": "stdout",
          "text": [
            "Balanced Accuracy: 0.396\n",
            "              precision    recall  f1-score   support\n",
            "\n",
            "     Healthy       0.87      0.92      0.89     42741\n",
            " Prediabetic       0.03      0.01      0.02       926\n",
            "    Diabetic       0.35      0.26      0.30      7069\n",
            "\n",
            "    accuracy                           0.81     50736\n",
            "   macro avg       0.41      0.40      0.40     50736\n",
            "weighted avg       0.78      0.81      0.79     50736\n",
            "\n",
            "R2 score:  -0.41418971188133114\n",
            "MSE:  0.6892935982339956\n",
            "MAE:  0.3580100914538001\n"
          ]
        }
      ]
    },
    {
      "cell_type": "code",
      "source": [
        "tun_cart_result = evaluate_model(tree_grid.best_estimator_, X_test, y_test)\n",
        "tun_cart_result"
      ],
      "metadata": {
        "id": "bZSGGBlGE-HX",
        "colab": {
          "base_uri": "https://localhost:8080/"
        },
        "outputId": "139fdbf7-6e50-4d33-f979-ac5e701a7fcf"
      },
      "execution_count": null,
      "outputs": [
        {
          "output_type": "stream",
          "name": "stdout",
          "text": [
            "Balanced Accuracy: 0.497\n",
            "              precision    recall  f1-score   support\n",
            "\n",
            "     Healthy       0.95      0.60      0.73     42741\n",
            " Prediabetic       0.02      0.26      0.05       926\n",
            "    Diabetic       0.32      0.63      0.42      7069\n",
            "\n",
            "    accuracy                           0.59     50736\n",
            "   macro avg       0.43      0.50      0.40     50736\n",
            "weighted avg       0.85      0.59      0.68     50736\n",
            "\n",
            "R2 score:  -1.065440006684283\n",
            "MSE:  1.0067210659098076\n",
            "MAE:  0.6057434563229265\n"
          ]
        }
      ]
    },
    {
      "cell_type": "markdown",
      "source": [
        "There are many options for the third algorithms. Considering our train datasets. We have approximate 200,000 input train data. Without the help of GPU, SVM will take a long time to train. Same as the gridsearch of hyperparameters. Thus, I think of model like logistic regression and Navie Bayes algorithms. However, these two algorithms cannot directly handle non-linear data. Thus, some modification is requried."
      ],
      "metadata": {
        "id": "fS5LMr2p0QYU"
      }
    },
    {
      "cell_type": "code",
      "source": [
        "from sklearn.preprocessing import PolynomialFeatures\n",
        "from sklearn.pipeline import make_pipeline\n",
        "from sklearn.linear_model import LogisticRegression\n",
        "from sklearn.naive_bayes import GaussianNB"
      ],
      "metadata": {
        "id": "vx6M_gEu6Zb9"
      },
      "execution_count": null,
      "outputs": []
    },
    {
      "cell_type": "code",
      "source": [
        "# generate polynomial features\n",
        "poly = PolynomialFeatures(degree=2, include_bias=False)\n",
        "X_train_poly = poly.fit_transform(X_train_scaled)\n",
        "X_test_poly = poly.transform(X_test_scaled)\n",
        "\n",
        "print(X_train_poly.shape[1])"
      ],
      "metadata": {
        "colab": {
          "base_uri": "https://localhost:8080/"
        },
        "id": "DXj78KMj6RrY",
        "outputId": "daa1fbec-a852-43f3-dd3b-7e6668ff5f83"
      },
      "execution_count": null,
      "outputs": [
        {
          "output_type": "stream",
          "name": "stdout",
          "text": [
            "119\n"
          ]
        }
      ]
    },
    {
      "cell_type": "code",
      "source": [
        "# initialization\n",
        "logreg = LogisticRegression(random_state=42)\n",
        "logreg.fit(X_train_poly, y_train)\n",
        "\n",
        "y_pred_logreg = logreg.predict(X_test_poly)\n",
        "\n",
        "print(\"=\"*40)\n",
        "print(\"default logistic result\")\n",
        "print(\"=\"*40)\n",
        "print(f\"balanced accuracy: {balanced_accuracy_score(y_test, y_pred_logreg):.4f}\")\n",
        "print(classification_report(\n",
        "    y_test, y_pred_logreg,\n",
        "    target_names=['Healthy', 'Prediabetic', 'Diabetic'],\n",
        "    zero_division=0\n",
        "))"
      ],
      "metadata": {
        "colab": {
          "base_uri": "https://localhost:8080/"
        },
        "id": "ONCzb03d6apg",
        "outputId": "a8a7f472-2ef7-4306-a28e-704c1ec71ed8"
      },
      "execution_count": null,
      "outputs": [
        {
          "output_type": "stream",
          "name": "stdout",
          "text": [
            "========================================\n",
            "default logistic result\n",
            "========================================\n",
            "balanced accuracy: 0.3832\n",
            "              precision    recall  f1-score   support\n",
            "\n",
            "     Healthy       0.86      0.98      0.92     42741\n",
            " Prediabetic       0.00      0.00      0.00       926\n",
            "    Diabetic       0.55      0.17      0.26      7069\n",
            "\n",
            "    accuracy                           0.85     50736\n",
            "   macro avg       0.47      0.38      0.39     50736\n",
            "weighted avg       0.80      0.85      0.81     50736\n",
            "\n"
          ]
        }
      ]
    },
    {
      "cell_type": "markdown",
      "source": [
        "Then we try default Naive Bayes algorithm. Since most of our features are linear, we choose Gaussian Naive Bayes. We need to handle non linear data."
      ],
      "metadata": {
        "id": "GiXY-AHE6oRA"
      }
    },
    {
      "cell_type": "code",
      "source": [
        "# initialize gnb\n",
        "gnb = GaussianNB()\n",
        "gnb.fit(X_train_poly, y_train)\n",
        "\n",
        "\n",
        "y_pred_gnb = gnb.predict(X_test_poly)\n",
        "\n",
        "print(\"=\"*40)\n",
        "print(\"GNB result\")\n",
        "print(\"=\"*40)\n",
        "print(f\"balanced accuracy: {balanced_accuracy_score(y_test, y_pred_gnb):.4f}\")\n",
        "print(classification_report(\n",
        "    y_test, y_pred_gnb,\n",
        "    target_names=['Healthy', 'Prediabetic', 'Diabetic'],\n",
        "    zero_division=0\n",
        "))"
      ],
      "metadata": {
        "colab": {
          "base_uri": "https://localhost:8080/"
        },
        "id": "X-A8jAUU86Xr",
        "outputId": "1a0ebcd7-16fe-4a4e-cdfd-ca2e14d2bb67"
      },
      "execution_count": null,
      "outputs": [
        {
          "output_type": "stream",
          "name": "stdout",
          "text": [
            "========================================\n",
            "GNB result\n",
            "========================================\n",
            "balanced accuracy: 0.4432\n",
            "              precision    recall  f1-score   support\n",
            "\n",
            "     Healthy       0.89      0.82      0.86     42741\n",
            " Prediabetic       0.03      0.07      0.04       926\n",
            "    Diabetic       0.33      0.44      0.38      7069\n",
            "\n",
            "    accuracy                           0.75     50736\n",
            "   macro avg       0.42      0.44      0.43     50736\n",
            "weighted avg       0.80      0.75      0.77     50736\n",
            "\n"
          ]
        }
      ]
    },
    {
      "cell_type": "markdown",
      "source": [
        "After that we tune these two models."
      ],
      "metadata": {
        "id": "TWbawCFl9D5t"
      }
    },
    {
      "cell_type": "code",
      "source": [
        "# logistic regression tune\n",
        "# initialization\n",
        "logreg = LogisticRegression(random_state=42, max_iter=1000)\n",
        "\n",
        "# setup grid\n",
        "param_grid = {\n",
        "    'C': [0.01, 0.1, 1, 10],\n",
        "    'penalty': ['l1', 'l2']\n",
        "}\n",
        "\n",
        "# create grid search\n",
        "logreg_grid = GridSearchCV(logreg, param_grid, cv=5, scoring='balanced_accuracy')\n",
        "logreg_grid.fit(X_train_poly, y_train)"
      ],
      "metadata": {
        "colab": {
          "base_uri": "https://localhost:8080/",
          "height": 625
        },
        "id": "X4jVhGefInDF",
        "outputId": "7035d1b5-377f-45c7-bc07-9b1421c08888"
      },
      "execution_count": null,
      "outputs": [
        {
          "output_type": "stream",
          "name": "stderr",
          "text": [
            "/usr/local/lib/python3.11/dist-packages/sklearn/model_selection/_validation.py:528: FitFailedWarning: \n",
            "20 fits failed out of a total of 40.\n",
            "The score on these train-test partitions for these parameters will be set to nan.\n",
            "If these failures are not expected, you can try to debug them by setting error_score='raise'.\n",
            "\n",
            "Below are more details about the failures:\n",
            "--------------------------------------------------------------------------------\n",
            "20 fits failed with the following error:\n",
            "Traceback (most recent call last):\n",
            "  File \"/usr/local/lib/python3.11/dist-packages/sklearn/model_selection/_validation.py\", line 866, in _fit_and_score\n",
            "    estimator.fit(X_train, y_train, **fit_params)\n",
            "  File \"/usr/local/lib/python3.11/dist-packages/sklearn/base.py\", line 1389, in wrapper\n",
            "    return fit_method(estimator, *args, **kwargs)\n",
            "           ^^^^^^^^^^^^^^^^^^^^^^^^^^^^^^^^^^^^^^\n",
            "  File \"/usr/local/lib/python3.11/dist-packages/sklearn/linear_model/_logistic.py\", line 1193, in fit\n",
            "    solver = _check_solver(self.solver, self.penalty, self.dual)\n",
            "             ^^^^^^^^^^^^^^^^^^^^^^^^^^^^^^^^^^^^^^^^^^^^^^^^^^^\n",
            "  File \"/usr/local/lib/python3.11/dist-packages/sklearn/linear_model/_logistic.py\", line 63, in _check_solver\n",
            "    raise ValueError(\n",
            "ValueError: Solver lbfgs supports only 'l2' or None penalties, got l1 penalty.\n",
            "\n",
            "  warnings.warn(some_fits_failed_message, FitFailedWarning)\n",
            "/usr/local/lib/python3.11/dist-packages/sklearn/model_selection/_search.py:1108: UserWarning: One or more of the test scores are non-finite: [       nan 0.38582228        nan 0.38608968        nan 0.38611326\n",
            "        nan 0.38611122]\n",
            "  warnings.warn(\n"
          ]
        },
        {
          "output_type": "execute_result",
          "data": {
            "text/plain": [
              "GridSearchCV(cv=5, estimator=LogisticRegression(max_iter=1000, random_state=42),\n",
              "             param_grid={'C': [0.01, 0.1, 1, 10], 'penalty': ['l1', 'l2']},\n",
              "             scoring='balanced_accuracy')"
            ],
            "text/html": [
              "<style>#sk-container-id-1 {\n",
              "  /* Definition of color scheme common for light and dark mode */\n",
              "  --sklearn-color-text: #000;\n",
              "  --sklearn-color-text-muted: #666;\n",
              "  --sklearn-color-line: gray;\n",
              "  /* Definition of color scheme for unfitted estimators */\n",
              "  --sklearn-color-unfitted-level-0: #fff5e6;\n",
              "  --sklearn-color-unfitted-level-1: #f6e4d2;\n",
              "  --sklearn-color-unfitted-level-2: #ffe0b3;\n",
              "  --sklearn-color-unfitted-level-3: chocolate;\n",
              "  /* Definition of color scheme for fitted estimators */\n",
              "  --sklearn-color-fitted-level-0: #f0f8ff;\n",
              "  --sklearn-color-fitted-level-1: #d4ebff;\n",
              "  --sklearn-color-fitted-level-2: #b3dbfd;\n",
              "  --sklearn-color-fitted-level-3: cornflowerblue;\n",
              "\n",
              "  /* Specific color for light theme */\n",
              "  --sklearn-color-text-on-default-background: var(--sg-text-color, var(--theme-code-foreground, var(--jp-content-font-color1, black)));\n",
              "  --sklearn-color-background: var(--sg-background-color, var(--theme-background, var(--jp-layout-color0, white)));\n",
              "  --sklearn-color-border-box: var(--sg-text-color, var(--theme-code-foreground, var(--jp-content-font-color1, black)));\n",
              "  --sklearn-color-icon: #696969;\n",
              "\n",
              "  @media (prefers-color-scheme: dark) {\n",
              "    /* Redefinition of color scheme for dark theme */\n",
              "    --sklearn-color-text-on-default-background: var(--sg-text-color, var(--theme-code-foreground, var(--jp-content-font-color1, white)));\n",
              "    --sklearn-color-background: var(--sg-background-color, var(--theme-background, var(--jp-layout-color0, #111)));\n",
              "    --sklearn-color-border-box: var(--sg-text-color, var(--theme-code-foreground, var(--jp-content-font-color1, white)));\n",
              "    --sklearn-color-icon: #878787;\n",
              "  }\n",
              "}\n",
              "\n",
              "#sk-container-id-1 {\n",
              "  color: var(--sklearn-color-text);\n",
              "}\n",
              "\n",
              "#sk-container-id-1 pre {\n",
              "  padding: 0;\n",
              "}\n",
              "\n",
              "#sk-container-id-1 input.sk-hidden--visually {\n",
              "  border: 0;\n",
              "  clip: rect(1px 1px 1px 1px);\n",
              "  clip: rect(1px, 1px, 1px, 1px);\n",
              "  height: 1px;\n",
              "  margin: -1px;\n",
              "  overflow: hidden;\n",
              "  padding: 0;\n",
              "  position: absolute;\n",
              "  width: 1px;\n",
              "}\n",
              "\n",
              "#sk-container-id-1 div.sk-dashed-wrapped {\n",
              "  border: 1px dashed var(--sklearn-color-line);\n",
              "  margin: 0 0.4em 0.5em 0.4em;\n",
              "  box-sizing: border-box;\n",
              "  padding-bottom: 0.4em;\n",
              "  background-color: var(--sklearn-color-background);\n",
              "}\n",
              "\n",
              "#sk-container-id-1 div.sk-container {\n",
              "  /* jupyter's `normalize.less` sets `[hidden] { display: none; }`\n",
              "     but bootstrap.min.css set `[hidden] { display: none !important; }`\n",
              "     so we also need the `!important` here to be able to override the\n",
              "     default hidden behavior on the sphinx rendered scikit-learn.org.\n",
              "     See: https://github.com/scikit-learn/scikit-learn/issues/21755 */\n",
              "  display: inline-block !important;\n",
              "  position: relative;\n",
              "}\n",
              "\n",
              "#sk-container-id-1 div.sk-text-repr-fallback {\n",
              "  display: none;\n",
              "}\n",
              "\n",
              "div.sk-parallel-item,\n",
              "div.sk-serial,\n",
              "div.sk-item {\n",
              "  /* draw centered vertical line to link estimators */\n",
              "  background-image: linear-gradient(var(--sklearn-color-text-on-default-background), var(--sklearn-color-text-on-default-background));\n",
              "  background-size: 2px 100%;\n",
              "  background-repeat: no-repeat;\n",
              "  background-position: center center;\n",
              "}\n",
              "\n",
              "/* Parallel-specific style estimator block */\n",
              "\n",
              "#sk-container-id-1 div.sk-parallel-item::after {\n",
              "  content: \"\";\n",
              "  width: 100%;\n",
              "  border-bottom: 2px solid var(--sklearn-color-text-on-default-background);\n",
              "  flex-grow: 1;\n",
              "}\n",
              "\n",
              "#sk-container-id-1 div.sk-parallel {\n",
              "  display: flex;\n",
              "  align-items: stretch;\n",
              "  justify-content: center;\n",
              "  background-color: var(--sklearn-color-background);\n",
              "  position: relative;\n",
              "}\n",
              "\n",
              "#sk-container-id-1 div.sk-parallel-item {\n",
              "  display: flex;\n",
              "  flex-direction: column;\n",
              "}\n",
              "\n",
              "#sk-container-id-1 div.sk-parallel-item:first-child::after {\n",
              "  align-self: flex-end;\n",
              "  width: 50%;\n",
              "}\n",
              "\n",
              "#sk-container-id-1 div.sk-parallel-item:last-child::after {\n",
              "  align-self: flex-start;\n",
              "  width: 50%;\n",
              "}\n",
              "\n",
              "#sk-container-id-1 div.sk-parallel-item:only-child::after {\n",
              "  width: 0;\n",
              "}\n",
              "\n",
              "/* Serial-specific style estimator block */\n",
              "\n",
              "#sk-container-id-1 div.sk-serial {\n",
              "  display: flex;\n",
              "  flex-direction: column;\n",
              "  align-items: center;\n",
              "  background-color: var(--sklearn-color-background);\n",
              "  padding-right: 1em;\n",
              "  padding-left: 1em;\n",
              "}\n",
              "\n",
              "\n",
              "/* Toggleable style: style used for estimator/Pipeline/ColumnTransformer box that is\n",
              "clickable and can be expanded/collapsed.\n",
              "- Pipeline and ColumnTransformer use this feature and define the default style\n",
              "- Estimators will overwrite some part of the style using the `sk-estimator` class\n",
              "*/\n",
              "\n",
              "/* Pipeline and ColumnTransformer style (default) */\n",
              "\n",
              "#sk-container-id-1 div.sk-toggleable {\n",
              "  /* Default theme specific background. It is overwritten whether we have a\n",
              "  specific estimator or a Pipeline/ColumnTransformer */\n",
              "  background-color: var(--sklearn-color-background);\n",
              "}\n",
              "\n",
              "/* Toggleable label */\n",
              "#sk-container-id-1 label.sk-toggleable__label {\n",
              "  cursor: pointer;\n",
              "  display: flex;\n",
              "  width: 100%;\n",
              "  margin-bottom: 0;\n",
              "  padding: 0.5em;\n",
              "  box-sizing: border-box;\n",
              "  text-align: center;\n",
              "  align-items: start;\n",
              "  justify-content: space-between;\n",
              "  gap: 0.5em;\n",
              "}\n",
              "\n",
              "#sk-container-id-1 label.sk-toggleable__label .caption {\n",
              "  font-size: 0.6rem;\n",
              "  font-weight: lighter;\n",
              "  color: var(--sklearn-color-text-muted);\n",
              "}\n",
              "\n",
              "#sk-container-id-1 label.sk-toggleable__label-arrow:before {\n",
              "  /* Arrow on the left of the label */\n",
              "  content: \"▸\";\n",
              "  float: left;\n",
              "  margin-right: 0.25em;\n",
              "  color: var(--sklearn-color-icon);\n",
              "}\n",
              "\n",
              "#sk-container-id-1 label.sk-toggleable__label-arrow:hover:before {\n",
              "  color: var(--sklearn-color-text);\n",
              "}\n",
              "\n",
              "/* Toggleable content - dropdown */\n",
              "\n",
              "#sk-container-id-1 div.sk-toggleable__content {\n",
              "  max-height: 0;\n",
              "  max-width: 0;\n",
              "  overflow: hidden;\n",
              "  text-align: left;\n",
              "  /* unfitted */\n",
              "  background-color: var(--sklearn-color-unfitted-level-0);\n",
              "}\n",
              "\n",
              "#sk-container-id-1 div.sk-toggleable__content.fitted {\n",
              "  /* fitted */\n",
              "  background-color: var(--sklearn-color-fitted-level-0);\n",
              "}\n",
              "\n",
              "#sk-container-id-1 div.sk-toggleable__content pre {\n",
              "  margin: 0.2em;\n",
              "  border-radius: 0.25em;\n",
              "  color: var(--sklearn-color-text);\n",
              "  /* unfitted */\n",
              "  background-color: var(--sklearn-color-unfitted-level-0);\n",
              "}\n",
              "\n",
              "#sk-container-id-1 div.sk-toggleable__content.fitted pre {\n",
              "  /* unfitted */\n",
              "  background-color: var(--sklearn-color-fitted-level-0);\n",
              "}\n",
              "\n",
              "#sk-container-id-1 input.sk-toggleable__control:checked~div.sk-toggleable__content {\n",
              "  /* Expand drop-down */\n",
              "  max-height: 200px;\n",
              "  max-width: 100%;\n",
              "  overflow: auto;\n",
              "}\n",
              "\n",
              "#sk-container-id-1 input.sk-toggleable__control:checked~label.sk-toggleable__label-arrow:before {\n",
              "  content: \"▾\";\n",
              "}\n",
              "\n",
              "/* Pipeline/ColumnTransformer-specific style */\n",
              "\n",
              "#sk-container-id-1 div.sk-label input.sk-toggleable__control:checked~label.sk-toggleable__label {\n",
              "  color: var(--sklearn-color-text);\n",
              "  background-color: var(--sklearn-color-unfitted-level-2);\n",
              "}\n",
              "\n",
              "#sk-container-id-1 div.sk-label.fitted input.sk-toggleable__control:checked~label.sk-toggleable__label {\n",
              "  background-color: var(--sklearn-color-fitted-level-2);\n",
              "}\n",
              "\n",
              "/* Estimator-specific style */\n",
              "\n",
              "/* Colorize estimator box */\n",
              "#sk-container-id-1 div.sk-estimator input.sk-toggleable__control:checked~label.sk-toggleable__label {\n",
              "  /* unfitted */\n",
              "  background-color: var(--sklearn-color-unfitted-level-2);\n",
              "}\n",
              "\n",
              "#sk-container-id-1 div.sk-estimator.fitted input.sk-toggleable__control:checked~label.sk-toggleable__label {\n",
              "  /* fitted */\n",
              "  background-color: var(--sklearn-color-fitted-level-2);\n",
              "}\n",
              "\n",
              "#sk-container-id-1 div.sk-label label.sk-toggleable__label,\n",
              "#sk-container-id-1 div.sk-label label {\n",
              "  /* The background is the default theme color */\n",
              "  color: var(--sklearn-color-text-on-default-background);\n",
              "}\n",
              "\n",
              "/* On hover, darken the color of the background */\n",
              "#sk-container-id-1 div.sk-label:hover label.sk-toggleable__label {\n",
              "  color: var(--sklearn-color-text);\n",
              "  background-color: var(--sklearn-color-unfitted-level-2);\n",
              "}\n",
              "\n",
              "/* Label box, darken color on hover, fitted */\n",
              "#sk-container-id-1 div.sk-label.fitted:hover label.sk-toggleable__label.fitted {\n",
              "  color: var(--sklearn-color-text);\n",
              "  background-color: var(--sklearn-color-fitted-level-2);\n",
              "}\n",
              "\n",
              "/* Estimator label */\n",
              "\n",
              "#sk-container-id-1 div.sk-label label {\n",
              "  font-family: monospace;\n",
              "  font-weight: bold;\n",
              "  display: inline-block;\n",
              "  line-height: 1.2em;\n",
              "}\n",
              "\n",
              "#sk-container-id-1 div.sk-label-container {\n",
              "  text-align: center;\n",
              "}\n",
              "\n",
              "/* Estimator-specific */\n",
              "#sk-container-id-1 div.sk-estimator {\n",
              "  font-family: monospace;\n",
              "  border: 1px dotted var(--sklearn-color-border-box);\n",
              "  border-radius: 0.25em;\n",
              "  box-sizing: border-box;\n",
              "  margin-bottom: 0.5em;\n",
              "  /* unfitted */\n",
              "  background-color: var(--sklearn-color-unfitted-level-0);\n",
              "}\n",
              "\n",
              "#sk-container-id-1 div.sk-estimator.fitted {\n",
              "  /* fitted */\n",
              "  background-color: var(--sklearn-color-fitted-level-0);\n",
              "}\n",
              "\n",
              "/* on hover */\n",
              "#sk-container-id-1 div.sk-estimator:hover {\n",
              "  /* unfitted */\n",
              "  background-color: var(--sklearn-color-unfitted-level-2);\n",
              "}\n",
              "\n",
              "#sk-container-id-1 div.sk-estimator.fitted:hover {\n",
              "  /* fitted */\n",
              "  background-color: var(--sklearn-color-fitted-level-2);\n",
              "}\n",
              "\n",
              "/* Specification for estimator info (e.g. \"i\" and \"?\") */\n",
              "\n",
              "/* Common style for \"i\" and \"?\" */\n",
              "\n",
              ".sk-estimator-doc-link,\n",
              "a:link.sk-estimator-doc-link,\n",
              "a:visited.sk-estimator-doc-link {\n",
              "  float: right;\n",
              "  font-size: smaller;\n",
              "  line-height: 1em;\n",
              "  font-family: monospace;\n",
              "  background-color: var(--sklearn-color-background);\n",
              "  border-radius: 1em;\n",
              "  height: 1em;\n",
              "  width: 1em;\n",
              "  text-decoration: none !important;\n",
              "  margin-left: 0.5em;\n",
              "  text-align: center;\n",
              "  /* unfitted */\n",
              "  border: var(--sklearn-color-unfitted-level-1) 1pt solid;\n",
              "  color: var(--sklearn-color-unfitted-level-1);\n",
              "}\n",
              "\n",
              ".sk-estimator-doc-link.fitted,\n",
              "a:link.sk-estimator-doc-link.fitted,\n",
              "a:visited.sk-estimator-doc-link.fitted {\n",
              "  /* fitted */\n",
              "  border: var(--sklearn-color-fitted-level-1) 1pt solid;\n",
              "  color: var(--sklearn-color-fitted-level-1);\n",
              "}\n",
              "\n",
              "/* On hover */\n",
              "div.sk-estimator:hover .sk-estimator-doc-link:hover,\n",
              ".sk-estimator-doc-link:hover,\n",
              "div.sk-label-container:hover .sk-estimator-doc-link:hover,\n",
              ".sk-estimator-doc-link:hover {\n",
              "  /* unfitted */\n",
              "  background-color: var(--sklearn-color-unfitted-level-3);\n",
              "  color: var(--sklearn-color-background);\n",
              "  text-decoration: none;\n",
              "}\n",
              "\n",
              "div.sk-estimator.fitted:hover .sk-estimator-doc-link.fitted:hover,\n",
              ".sk-estimator-doc-link.fitted:hover,\n",
              "div.sk-label-container:hover .sk-estimator-doc-link.fitted:hover,\n",
              ".sk-estimator-doc-link.fitted:hover {\n",
              "  /* fitted */\n",
              "  background-color: var(--sklearn-color-fitted-level-3);\n",
              "  color: var(--sklearn-color-background);\n",
              "  text-decoration: none;\n",
              "}\n",
              "\n",
              "/* Span, style for the box shown on hovering the info icon */\n",
              ".sk-estimator-doc-link span {\n",
              "  display: none;\n",
              "  z-index: 9999;\n",
              "  position: relative;\n",
              "  font-weight: normal;\n",
              "  right: .2ex;\n",
              "  padding: .5ex;\n",
              "  margin: .5ex;\n",
              "  width: min-content;\n",
              "  min-width: 20ex;\n",
              "  max-width: 50ex;\n",
              "  color: var(--sklearn-color-text);\n",
              "  box-shadow: 2pt 2pt 4pt #999;\n",
              "  /* unfitted */\n",
              "  background: var(--sklearn-color-unfitted-level-0);\n",
              "  border: .5pt solid var(--sklearn-color-unfitted-level-3);\n",
              "}\n",
              "\n",
              ".sk-estimator-doc-link.fitted span {\n",
              "  /* fitted */\n",
              "  background: var(--sklearn-color-fitted-level-0);\n",
              "  border: var(--sklearn-color-fitted-level-3);\n",
              "}\n",
              "\n",
              ".sk-estimator-doc-link:hover span {\n",
              "  display: block;\n",
              "}\n",
              "\n",
              "/* \"?\"-specific style due to the `<a>` HTML tag */\n",
              "\n",
              "#sk-container-id-1 a.estimator_doc_link {\n",
              "  float: right;\n",
              "  font-size: 1rem;\n",
              "  line-height: 1em;\n",
              "  font-family: monospace;\n",
              "  background-color: var(--sklearn-color-background);\n",
              "  border-radius: 1rem;\n",
              "  height: 1rem;\n",
              "  width: 1rem;\n",
              "  text-decoration: none;\n",
              "  /* unfitted */\n",
              "  color: var(--sklearn-color-unfitted-level-1);\n",
              "  border: var(--sklearn-color-unfitted-level-1) 1pt solid;\n",
              "}\n",
              "\n",
              "#sk-container-id-1 a.estimator_doc_link.fitted {\n",
              "  /* fitted */\n",
              "  border: var(--sklearn-color-fitted-level-1) 1pt solid;\n",
              "  color: var(--sklearn-color-fitted-level-1);\n",
              "}\n",
              "\n",
              "/* On hover */\n",
              "#sk-container-id-1 a.estimator_doc_link:hover {\n",
              "  /* unfitted */\n",
              "  background-color: var(--sklearn-color-unfitted-level-3);\n",
              "  color: var(--sklearn-color-background);\n",
              "  text-decoration: none;\n",
              "}\n",
              "\n",
              "#sk-container-id-1 a.estimator_doc_link.fitted:hover {\n",
              "  /* fitted */\n",
              "  background-color: var(--sklearn-color-fitted-level-3);\n",
              "}\n",
              "</style><div id=\"sk-container-id-1\" class=\"sk-top-container\"><div class=\"sk-text-repr-fallback\"><pre>GridSearchCV(cv=5, estimator=LogisticRegression(max_iter=1000, random_state=42),\n",
              "             param_grid={&#x27;C&#x27;: [0.01, 0.1, 1, 10], &#x27;penalty&#x27;: [&#x27;l1&#x27;, &#x27;l2&#x27;]},\n",
              "             scoring=&#x27;balanced_accuracy&#x27;)</pre><b>In a Jupyter environment, please rerun this cell to show the HTML representation or trust the notebook. <br />On GitHub, the HTML representation is unable to render, please try loading this page with nbviewer.org.</b></div><div class=\"sk-container\" hidden><div class=\"sk-item sk-dashed-wrapped\"><div class=\"sk-label-container\"><div class=\"sk-label fitted sk-toggleable\"><input class=\"sk-toggleable__control sk-hidden--visually\" id=\"sk-estimator-id-1\" type=\"checkbox\" ><label for=\"sk-estimator-id-1\" class=\"sk-toggleable__label fitted sk-toggleable__label-arrow\"><div><div>GridSearchCV</div></div><div><a class=\"sk-estimator-doc-link fitted\" rel=\"noreferrer\" target=\"_blank\" href=\"https://scikit-learn.org/1.6/modules/generated/sklearn.model_selection.GridSearchCV.html\">?<span>Documentation for GridSearchCV</span></a><span class=\"sk-estimator-doc-link fitted\">i<span>Fitted</span></span></div></label><div class=\"sk-toggleable__content fitted\"><pre>GridSearchCV(cv=5, estimator=LogisticRegression(max_iter=1000, random_state=42),\n",
              "             param_grid={&#x27;C&#x27;: [0.01, 0.1, 1, 10], &#x27;penalty&#x27;: [&#x27;l1&#x27;, &#x27;l2&#x27;]},\n",
              "             scoring=&#x27;balanced_accuracy&#x27;)</pre></div> </div></div><div class=\"sk-parallel\"><div class=\"sk-parallel-item\"><div class=\"sk-item\"><div class=\"sk-label-container\"><div class=\"sk-label fitted sk-toggleable\"><input class=\"sk-toggleable__control sk-hidden--visually\" id=\"sk-estimator-id-2\" type=\"checkbox\" ><label for=\"sk-estimator-id-2\" class=\"sk-toggleable__label fitted sk-toggleable__label-arrow\"><div><div>best_estimator_: LogisticRegression</div></div></label><div class=\"sk-toggleable__content fitted\"><pre>LogisticRegression(C=1, max_iter=1000, random_state=42)</pre></div> </div></div><div class=\"sk-serial\"><div class=\"sk-item\"><div class=\"sk-estimator fitted sk-toggleable\"><input class=\"sk-toggleable__control sk-hidden--visually\" id=\"sk-estimator-id-3\" type=\"checkbox\" ><label for=\"sk-estimator-id-3\" class=\"sk-toggleable__label fitted sk-toggleable__label-arrow\"><div><div>LogisticRegression</div></div><div><a class=\"sk-estimator-doc-link fitted\" rel=\"noreferrer\" target=\"_blank\" href=\"https://scikit-learn.org/1.6/modules/generated/sklearn.linear_model.LogisticRegression.html\">?<span>Documentation for LogisticRegression</span></a></div></label><div class=\"sk-toggleable__content fitted\"><pre>LogisticRegression(C=1, max_iter=1000, random_state=42)</pre></div> </div></div></div></div></div></div></div></div></div>"
            ]
          },
          "metadata": {},
          "execution_count": 26
        }
      ]
    },
    {
      "cell_type": "code",
      "source": [
        "logreg_grid.best_params_"
      ],
      "metadata": {
        "colab": {
          "base_uri": "https://localhost:8080/"
        },
        "id": "gHdofF_m9Sp1",
        "outputId": "2a954b63-e17f-49a5-bb93-c72e8d77957e"
      },
      "execution_count": null,
      "outputs": [
        {
          "output_type": "execute_result",
          "data": {
            "text/plain": [
              "{'C': 1, 'penalty': 'l2'}"
            ]
          },
          "metadata": {},
          "execution_count": 27
        }
      ]
    },
    {
      "cell_type": "code",
      "source": [
        "tun_logreg_result = evaluate_model(logreg_grid.best_estimator_, X_test_poly, y_test)\n",
        "tun_logreg_result"
      ],
      "metadata": {
        "colab": {
          "base_uri": "https://localhost:8080/"
        },
        "id": "cnIm5gTPOrsc",
        "outputId": "6bf1e93e-1c16-49a5-b78e-d117a2b0faf5"
      },
      "execution_count": null,
      "outputs": [
        {
          "output_type": "stream",
          "name": "stdout",
          "text": [
            "Balanced Accuracy: 0.383\n",
            "              precision    recall  f1-score   support\n",
            "\n",
            "     Healthy       0.86      0.98      0.92     42741\n",
            " Prediabetic       0.00      0.00      0.00       926\n",
            "    Diabetic       0.55      0.17      0.26      7069\n",
            "\n",
            "    accuracy                           0.85     50736\n",
            "   macro avg       0.47      0.38      0.39     50736\n",
            "weighted avg       0.80      0.85      0.81     50736\n",
            "\n",
            "R2 score:  -0.13444121517553653\n",
            "MSE:  0.5529407127089246\n",
            "MAE:  0.2855960264900662\n"
          ]
        }
      ]
    },
    {
      "cell_type": "code",
      "source": [
        "# GNB tune\n",
        "# intialization\n",
        "gnb = GaussianNB()\n",
        "\n",
        "# setup hyperparameters\n",
        "param_grid = {\n",
        "    'var_smoothing': [1e-9, 1e-8, 1e-7, 1e-6]\n",
        "}\n",
        "\n",
        "# run grid search\n",
        "gnb_grid = GridSearchCV(gnb, param_grid, cv=5, scoring='balanced_accuracy')\n",
        "gnb_grid.fit(X_train_poly, y_train)"
      ],
      "metadata": {
        "colab": {
          "base_uri": "https://localhost:8080/",
          "height": 166
        },
        "id": "b5T0nyE1R0um",
        "outputId": "92e1164c-4b7c-43ed-c72c-bb89bbaa75fa"
      },
      "execution_count": null,
      "outputs": [
        {
          "output_type": "execute_result",
          "data": {
            "text/plain": [
              "GridSearchCV(cv=5, estimator=GaussianNB(),\n",
              "             param_grid={'var_smoothing': [1e-09, 1e-08, 1e-07, 1e-06]},\n",
              "             scoring='balanced_accuracy')"
            ],
            "text/html": [
              "<style>#sk-container-id-2 {\n",
              "  /* Definition of color scheme common for light and dark mode */\n",
              "  --sklearn-color-text: #000;\n",
              "  --sklearn-color-text-muted: #666;\n",
              "  --sklearn-color-line: gray;\n",
              "  /* Definition of color scheme for unfitted estimators */\n",
              "  --sklearn-color-unfitted-level-0: #fff5e6;\n",
              "  --sklearn-color-unfitted-level-1: #f6e4d2;\n",
              "  --sklearn-color-unfitted-level-2: #ffe0b3;\n",
              "  --sklearn-color-unfitted-level-3: chocolate;\n",
              "  /* Definition of color scheme for fitted estimators */\n",
              "  --sklearn-color-fitted-level-0: #f0f8ff;\n",
              "  --sklearn-color-fitted-level-1: #d4ebff;\n",
              "  --sklearn-color-fitted-level-2: #b3dbfd;\n",
              "  --sklearn-color-fitted-level-3: cornflowerblue;\n",
              "\n",
              "  /* Specific color for light theme */\n",
              "  --sklearn-color-text-on-default-background: var(--sg-text-color, var(--theme-code-foreground, var(--jp-content-font-color1, black)));\n",
              "  --sklearn-color-background: var(--sg-background-color, var(--theme-background, var(--jp-layout-color0, white)));\n",
              "  --sklearn-color-border-box: var(--sg-text-color, var(--theme-code-foreground, var(--jp-content-font-color1, black)));\n",
              "  --sklearn-color-icon: #696969;\n",
              "\n",
              "  @media (prefers-color-scheme: dark) {\n",
              "    /* Redefinition of color scheme for dark theme */\n",
              "    --sklearn-color-text-on-default-background: var(--sg-text-color, var(--theme-code-foreground, var(--jp-content-font-color1, white)));\n",
              "    --sklearn-color-background: var(--sg-background-color, var(--theme-background, var(--jp-layout-color0, #111)));\n",
              "    --sklearn-color-border-box: var(--sg-text-color, var(--theme-code-foreground, var(--jp-content-font-color1, white)));\n",
              "    --sklearn-color-icon: #878787;\n",
              "  }\n",
              "}\n",
              "\n",
              "#sk-container-id-2 {\n",
              "  color: var(--sklearn-color-text);\n",
              "}\n",
              "\n",
              "#sk-container-id-2 pre {\n",
              "  padding: 0;\n",
              "}\n",
              "\n",
              "#sk-container-id-2 input.sk-hidden--visually {\n",
              "  border: 0;\n",
              "  clip: rect(1px 1px 1px 1px);\n",
              "  clip: rect(1px, 1px, 1px, 1px);\n",
              "  height: 1px;\n",
              "  margin: -1px;\n",
              "  overflow: hidden;\n",
              "  padding: 0;\n",
              "  position: absolute;\n",
              "  width: 1px;\n",
              "}\n",
              "\n",
              "#sk-container-id-2 div.sk-dashed-wrapped {\n",
              "  border: 1px dashed var(--sklearn-color-line);\n",
              "  margin: 0 0.4em 0.5em 0.4em;\n",
              "  box-sizing: border-box;\n",
              "  padding-bottom: 0.4em;\n",
              "  background-color: var(--sklearn-color-background);\n",
              "}\n",
              "\n",
              "#sk-container-id-2 div.sk-container {\n",
              "  /* jupyter's `normalize.less` sets `[hidden] { display: none; }`\n",
              "     but bootstrap.min.css set `[hidden] { display: none !important; }`\n",
              "     so we also need the `!important` here to be able to override the\n",
              "     default hidden behavior on the sphinx rendered scikit-learn.org.\n",
              "     See: https://github.com/scikit-learn/scikit-learn/issues/21755 */\n",
              "  display: inline-block !important;\n",
              "  position: relative;\n",
              "}\n",
              "\n",
              "#sk-container-id-2 div.sk-text-repr-fallback {\n",
              "  display: none;\n",
              "}\n",
              "\n",
              "div.sk-parallel-item,\n",
              "div.sk-serial,\n",
              "div.sk-item {\n",
              "  /* draw centered vertical line to link estimators */\n",
              "  background-image: linear-gradient(var(--sklearn-color-text-on-default-background), var(--sklearn-color-text-on-default-background));\n",
              "  background-size: 2px 100%;\n",
              "  background-repeat: no-repeat;\n",
              "  background-position: center center;\n",
              "}\n",
              "\n",
              "/* Parallel-specific style estimator block */\n",
              "\n",
              "#sk-container-id-2 div.sk-parallel-item::after {\n",
              "  content: \"\";\n",
              "  width: 100%;\n",
              "  border-bottom: 2px solid var(--sklearn-color-text-on-default-background);\n",
              "  flex-grow: 1;\n",
              "}\n",
              "\n",
              "#sk-container-id-2 div.sk-parallel {\n",
              "  display: flex;\n",
              "  align-items: stretch;\n",
              "  justify-content: center;\n",
              "  background-color: var(--sklearn-color-background);\n",
              "  position: relative;\n",
              "}\n",
              "\n",
              "#sk-container-id-2 div.sk-parallel-item {\n",
              "  display: flex;\n",
              "  flex-direction: column;\n",
              "}\n",
              "\n",
              "#sk-container-id-2 div.sk-parallel-item:first-child::after {\n",
              "  align-self: flex-end;\n",
              "  width: 50%;\n",
              "}\n",
              "\n",
              "#sk-container-id-2 div.sk-parallel-item:last-child::after {\n",
              "  align-self: flex-start;\n",
              "  width: 50%;\n",
              "}\n",
              "\n",
              "#sk-container-id-2 div.sk-parallel-item:only-child::after {\n",
              "  width: 0;\n",
              "}\n",
              "\n",
              "/* Serial-specific style estimator block */\n",
              "\n",
              "#sk-container-id-2 div.sk-serial {\n",
              "  display: flex;\n",
              "  flex-direction: column;\n",
              "  align-items: center;\n",
              "  background-color: var(--sklearn-color-background);\n",
              "  padding-right: 1em;\n",
              "  padding-left: 1em;\n",
              "}\n",
              "\n",
              "\n",
              "/* Toggleable style: style used for estimator/Pipeline/ColumnTransformer box that is\n",
              "clickable and can be expanded/collapsed.\n",
              "- Pipeline and ColumnTransformer use this feature and define the default style\n",
              "- Estimators will overwrite some part of the style using the `sk-estimator` class\n",
              "*/\n",
              "\n",
              "/* Pipeline and ColumnTransformer style (default) */\n",
              "\n",
              "#sk-container-id-2 div.sk-toggleable {\n",
              "  /* Default theme specific background. It is overwritten whether we have a\n",
              "  specific estimator or a Pipeline/ColumnTransformer */\n",
              "  background-color: var(--sklearn-color-background);\n",
              "}\n",
              "\n",
              "/* Toggleable label */\n",
              "#sk-container-id-2 label.sk-toggleable__label {\n",
              "  cursor: pointer;\n",
              "  display: flex;\n",
              "  width: 100%;\n",
              "  margin-bottom: 0;\n",
              "  padding: 0.5em;\n",
              "  box-sizing: border-box;\n",
              "  text-align: center;\n",
              "  align-items: start;\n",
              "  justify-content: space-between;\n",
              "  gap: 0.5em;\n",
              "}\n",
              "\n",
              "#sk-container-id-2 label.sk-toggleable__label .caption {\n",
              "  font-size: 0.6rem;\n",
              "  font-weight: lighter;\n",
              "  color: var(--sklearn-color-text-muted);\n",
              "}\n",
              "\n",
              "#sk-container-id-2 label.sk-toggleable__label-arrow:before {\n",
              "  /* Arrow on the left of the label */\n",
              "  content: \"▸\";\n",
              "  float: left;\n",
              "  margin-right: 0.25em;\n",
              "  color: var(--sklearn-color-icon);\n",
              "}\n",
              "\n",
              "#sk-container-id-2 label.sk-toggleable__label-arrow:hover:before {\n",
              "  color: var(--sklearn-color-text);\n",
              "}\n",
              "\n",
              "/* Toggleable content - dropdown */\n",
              "\n",
              "#sk-container-id-2 div.sk-toggleable__content {\n",
              "  max-height: 0;\n",
              "  max-width: 0;\n",
              "  overflow: hidden;\n",
              "  text-align: left;\n",
              "  /* unfitted */\n",
              "  background-color: var(--sklearn-color-unfitted-level-0);\n",
              "}\n",
              "\n",
              "#sk-container-id-2 div.sk-toggleable__content.fitted {\n",
              "  /* fitted */\n",
              "  background-color: var(--sklearn-color-fitted-level-0);\n",
              "}\n",
              "\n",
              "#sk-container-id-2 div.sk-toggleable__content pre {\n",
              "  margin: 0.2em;\n",
              "  border-radius: 0.25em;\n",
              "  color: var(--sklearn-color-text);\n",
              "  /* unfitted */\n",
              "  background-color: var(--sklearn-color-unfitted-level-0);\n",
              "}\n",
              "\n",
              "#sk-container-id-2 div.sk-toggleable__content.fitted pre {\n",
              "  /* unfitted */\n",
              "  background-color: var(--sklearn-color-fitted-level-0);\n",
              "}\n",
              "\n",
              "#sk-container-id-2 input.sk-toggleable__control:checked~div.sk-toggleable__content {\n",
              "  /* Expand drop-down */\n",
              "  max-height: 200px;\n",
              "  max-width: 100%;\n",
              "  overflow: auto;\n",
              "}\n",
              "\n",
              "#sk-container-id-2 input.sk-toggleable__control:checked~label.sk-toggleable__label-arrow:before {\n",
              "  content: \"▾\";\n",
              "}\n",
              "\n",
              "/* Pipeline/ColumnTransformer-specific style */\n",
              "\n",
              "#sk-container-id-2 div.sk-label input.sk-toggleable__control:checked~label.sk-toggleable__label {\n",
              "  color: var(--sklearn-color-text);\n",
              "  background-color: var(--sklearn-color-unfitted-level-2);\n",
              "}\n",
              "\n",
              "#sk-container-id-2 div.sk-label.fitted input.sk-toggleable__control:checked~label.sk-toggleable__label {\n",
              "  background-color: var(--sklearn-color-fitted-level-2);\n",
              "}\n",
              "\n",
              "/* Estimator-specific style */\n",
              "\n",
              "/* Colorize estimator box */\n",
              "#sk-container-id-2 div.sk-estimator input.sk-toggleable__control:checked~label.sk-toggleable__label {\n",
              "  /* unfitted */\n",
              "  background-color: var(--sklearn-color-unfitted-level-2);\n",
              "}\n",
              "\n",
              "#sk-container-id-2 div.sk-estimator.fitted input.sk-toggleable__control:checked~label.sk-toggleable__label {\n",
              "  /* fitted */\n",
              "  background-color: var(--sklearn-color-fitted-level-2);\n",
              "}\n",
              "\n",
              "#sk-container-id-2 div.sk-label label.sk-toggleable__label,\n",
              "#sk-container-id-2 div.sk-label label {\n",
              "  /* The background is the default theme color */\n",
              "  color: var(--sklearn-color-text-on-default-background);\n",
              "}\n",
              "\n",
              "/* On hover, darken the color of the background */\n",
              "#sk-container-id-2 div.sk-label:hover label.sk-toggleable__label {\n",
              "  color: var(--sklearn-color-text);\n",
              "  background-color: var(--sklearn-color-unfitted-level-2);\n",
              "}\n",
              "\n",
              "/* Label box, darken color on hover, fitted */\n",
              "#sk-container-id-2 div.sk-label.fitted:hover label.sk-toggleable__label.fitted {\n",
              "  color: var(--sklearn-color-text);\n",
              "  background-color: var(--sklearn-color-fitted-level-2);\n",
              "}\n",
              "\n",
              "/* Estimator label */\n",
              "\n",
              "#sk-container-id-2 div.sk-label label {\n",
              "  font-family: monospace;\n",
              "  font-weight: bold;\n",
              "  display: inline-block;\n",
              "  line-height: 1.2em;\n",
              "}\n",
              "\n",
              "#sk-container-id-2 div.sk-label-container {\n",
              "  text-align: center;\n",
              "}\n",
              "\n",
              "/* Estimator-specific */\n",
              "#sk-container-id-2 div.sk-estimator {\n",
              "  font-family: monospace;\n",
              "  border: 1px dotted var(--sklearn-color-border-box);\n",
              "  border-radius: 0.25em;\n",
              "  box-sizing: border-box;\n",
              "  margin-bottom: 0.5em;\n",
              "  /* unfitted */\n",
              "  background-color: var(--sklearn-color-unfitted-level-0);\n",
              "}\n",
              "\n",
              "#sk-container-id-2 div.sk-estimator.fitted {\n",
              "  /* fitted */\n",
              "  background-color: var(--sklearn-color-fitted-level-0);\n",
              "}\n",
              "\n",
              "/* on hover */\n",
              "#sk-container-id-2 div.sk-estimator:hover {\n",
              "  /* unfitted */\n",
              "  background-color: var(--sklearn-color-unfitted-level-2);\n",
              "}\n",
              "\n",
              "#sk-container-id-2 div.sk-estimator.fitted:hover {\n",
              "  /* fitted */\n",
              "  background-color: var(--sklearn-color-fitted-level-2);\n",
              "}\n",
              "\n",
              "/* Specification for estimator info (e.g. \"i\" and \"?\") */\n",
              "\n",
              "/* Common style for \"i\" and \"?\" */\n",
              "\n",
              ".sk-estimator-doc-link,\n",
              "a:link.sk-estimator-doc-link,\n",
              "a:visited.sk-estimator-doc-link {\n",
              "  float: right;\n",
              "  font-size: smaller;\n",
              "  line-height: 1em;\n",
              "  font-family: monospace;\n",
              "  background-color: var(--sklearn-color-background);\n",
              "  border-radius: 1em;\n",
              "  height: 1em;\n",
              "  width: 1em;\n",
              "  text-decoration: none !important;\n",
              "  margin-left: 0.5em;\n",
              "  text-align: center;\n",
              "  /* unfitted */\n",
              "  border: var(--sklearn-color-unfitted-level-1) 1pt solid;\n",
              "  color: var(--sklearn-color-unfitted-level-1);\n",
              "}\n",
              "\n",
              ".sk-estimator-doc-link.fitted,\n",
              "a:link.sk-estimator-doc-link.fitted,\n",
              "a:visited.sk-estimator-doc-link.fitted {\n",
              "  /* fitted */\n",
              "  border: var(--sklearn-color-fitted-level-1) 1pt solid;\n",
              "  color: var(--sklearn-color-fitted-level-1);\n",
              "}\n",
              "\n",
              "/* On hover */\n",
              "div.sk-estimator:hover .sk-estimator-doc-link:hover,\n",
              ".sk-estimator-doc-link:hover,\n",
              "div.sk-label-container:hover .sk-estimator-doc-link:hover,\n",
              ".sk-estimator-doc-link:hover {\n",
              "  /* unfitted */\n",
              "  background-color: var(--sklearn-color-unfitted-level-3);\n",
              "  color: var(--sklearn-color-background);\n",
              "  text-decoration: none;\n",
              "}\n",
              "\n",
              "div.sk-estimator.fitted:hover .sk-estimator-doc-link.fitted:hover,\n",
              ".sk-estimator-doc-link.fitted:hover,\n",
              "div.sk-label-container:hover .sk-estimator-doc-link.fitted:hover,\n",
              ".sk-estimator-doc-link.fitted:hover {\n",
              "  /* fitted */\n",
              "  background-color: var(--sklearn-color-fitted-level-3);\n",
              "  color: var(--sklearn-color-background);\n",
              "  text-decoration: none;\n",
              "}\n",
              "\n",
              "/* Span, style for the box shown on hovering the info icon */\n",
              ".sk-estimator-doc-link span {\n",
              "  display: none;\n",
              "  z-index: 9999;\n",
              "  position: relative;\n",
              "  font-weight: normal;\n",
              "  right: .2ex;\n",
              "  padding: .5ex;\n",
              "  margin: .5ex;\n",
              "  width: min-content;\n",
              "  min-width: 20ex;\n",
              "  max-width: 50ex;\n",
              "  color: var(--sklearn-color-text);\n",
              "  box-shadow: 2pt 2pt 4pt #999;\n",
              "  /* unfitted */\n",
              "  background: var(--sklearn-color-unfitted-level-0);\n",
              "  border: .5pt solid var(--sklearn-color-unfitted-level-3);\n",
              "}\n",
              "\n",
              ".sk-estimator-doc-link.fitted span {\n",
              "  /* fitted */\n",
              "  background: var(--sklearn-color-fitted-level-0);\n",
              "  border: var(--sklearn-color-fitted-level-3);\n",
              "}\n",
              "\n",
              ".sk-estimator-doc-link:hover span {\n",
              "  display: block;\n",
              "}\n",
              "\n",
              "/* \"?\"-specific style due to the `<a>` HTML tag */\n",
              "\n",
              "#sk-container-id-2 a.estimator_doc_link {\n",
              "  float: right;\n",
              "  font-size: 1rem;\n",
              "  line-height: 1em;\n",
              "  font-family: monospace;\n",
              "  background-color: var(--sklearn-color-background);\n",
              "  border-radius: 1rem;\n",
              "  height: 1rem;\n",
              "  width: 1rem;\n",
              "  text-decoration: none;\n",
              "  /* unfitted */\n",
              "  color: var(--sklearn-color-unfitted-level-1);\n",
              "  border: var(--sklearn-color-unfitted-level-1) 1pt solid;\n",
              "}\n",
              "\n",
              "#sk-container-id-2 a.estimator_doc_link.fitted {\n",
              "  /* fitted */\n",
              "  border: var(--sklearn-color-fitted-level-1) 1pt solid;\n",
              "  color: var(--sklearn-color-fitted-level-1);\n",
              "}\n",
              "\n",
              "/* On hover */\n",
              "#sk-container-id-2 a.estimator_doc_link:hover {\n",
              "  /* unfitted */\n",
              "  background-color: var(--sklearn-color-unfitted-level-3);\n",
              "  color: var(--sklearn-color-background);\n",
              "  text-decoration: none;\n",
              "}\n",
              "\n",
              "#sk-container-id-2 a.estimator_doc_link.fitted:hover {\n",
              "  /* fitted */\n",
              "  background-color: var(--sklearn-color-fitted-level-3);\n",
              "}\n",
              "</style><div id=\"sk-container-id-2\" class=\"sk-top-container\"><div class=\"sk-text-repr-fallback\"><pre>GridSearchCV(cv=5, estimator=GaussianNB(),\n",
              "             param_grid={&#x27;var_smoothing&#x27;: [1e-09, 1e-08, 1e-07, 1e-06]},\n",
              "             scoring=&#x27;balanced_accuracy&#x27;)</pre><b>In a Jupyter environment, please rerun this cell to show the HTML representation or trust the notebook. <br />On GitHub, the HTML representation is unable to render, please try loading this page with nbviewer.org.</b></div><div class=\"sk-container\" hidden><div class=\"sk-item sk-dashed-wrapped\"><div class=\"sk-label-container\"><div class=\"sk-label fitted sk-toggleable\"><input class=\"sk-toggleable__control sk-hidden--visually\" id=\"sk-estimator-id-4\" type=\"checkbox\" ><label for=\"sk-estimator-id-4\" class=\"sk-toggleable__label fitted sk-toggleable__label-arrow\"><div><div>GridSearchCV</div></div><div><a class=\"sk-estimator-doc-link fitted\" rel=\"noreferrer\" target=\"_blank\" href=\"https://scikit-learn.org/1.6/modules/generated/sklearn.model_selection.GridSearchCV.html\">?<span>Documentation for GridSearchCV</span></a><span class=\"sk-estimator-doc-link fitted\">i<span>Fitted</span></span></div></label><div class=\"sk-toggleable__content fitted\"><pre>GridSearchCV(cv=5, estimator=GaussianNB(),\n",
              "             param_grid={&#x27;var_smoothing&#x27;: [1e-09, 1e-08, 1e-07, 1e-06]},\n",
              "             scoring=&#x27;balanced_accuracy&#x27;)</pre></div> </div></div><div class=\"sk-parallel\"><div class=\"sk-parallel-item\"><div class=\"sk-item\"><div class=\"sk-label-container\"><div class=\"sk-label fitted sk-toggleable\"><input class=\"sk-toggleable__control sk-hidden--visually\" id=\"sk-estimator-id-5\" type=\"checkbox\" ><label for=\"sk-estimator-id-5\" class=\"sk-toggleable__label fitted sk-toggleable__label-arrow\"><div><div>best_estimator_: GaussianNB</div></div></label><div class=\"sk-toggleable__content fitted\"><pre>GaussianNB()</pre></div> </div></div><div class=\"sk-serial\"><div class=\"sk-item\"><div class=\"sk-estimator fitted sk-toggleable\"><input class=\"sk-toggleable__control sk-hidden--visually\" id=\"sk-estimator-id-6\" type=\"checkbox\" ><label for=\"sk-estimator-id-6\" class=\"sk-toggleable__label fitted sk-toggleable__label-arrow\"><div><div>GaussianNB</div></div><div><a class=\"sk-estimator-doc-link fitted\" rel=\"noreferrer\" target=\"_blank\" href=\"https://scikit-learn.org/1.6/modules/generated/sklearn.naive_bayes.GaussianNB.html\">?<span>Documentation for GaussianNB</span></a></div></label><div class=\"sk-toggleable__content fitted\"><pre>GaussianNB()</pre></div> </div></div></div></div></div></div></div></div></div>"
            ]
          },
          "metadata": {},
          "execution_count": 29
        }
      ]
    },
    {
      "cell_type": "code",
      "source": [
        "gnb_grid.best_params_"
      ],
      "metadata": {
        "colab": {
          "base_uri": "https://localhost:8080/"
        },
        "id": "t1stl4cf9X8t",
        "outputId": "3ce24640-d613-4902-9eae-cc463c4c870e"
      },
      "execution_count": null,
      "outputs": [
        {
          "output_type": "execute_result",
          "data": {
            "text/plain": [
              "{'var_smoothing': 1e-09}"
            ]
          },
          "metadata": {},
          "execution_count": 30
        }
      ]
    },
    {
      "cell_type": "code",
      "source": [
        "tun_gnb_result = evaluate_model(gnb_grid.best_estimator_, X_test_poly, y_test)\n",
        "tun_gnb_result"
      ],
      "metadata": {
        "colab": {
          "base_uri": "https://localhost:8080/"
        },
        "id": "o8IRwt5QSxYm",
        "outputId": "7deb30c5-4ee6-4117-a019-abca7971cbbf"
      },
      "execution_count": null,
      "outputs": [
        {
          "output_type": "stream",
          "name": "stdout",
          "text": [
            "Balanced Accuracy: 0.443\n",
            "              precision    recall  f1-score   support\n",
            "\n",
            "     Healthy       0.89      0.82      0.86     42741\n",
            " Prediabetic       0.03      0.07      0.04       926\n",
            "    Diabetic       0.33      0.44      0.38      7069\n",
            "\n",
            "    accuracy                           0.75     50736\n",
            "   macro avg       0.42      0.44      0.43     50736\n",
            "weighted avg       0.80      0.75      0.77     50736\n",
            "\n",
            "R2 score:  -0.645938574937259\n",
            "MSE:  0.8022508672343109\n",
            "MAE:  0.43166587827183855\n"
          ]
        }
      ]
    },
    {
      "cell_type": "markdown",
      "source": [
        "## Question 7:\n",
        "- Analyze the evaluated models. For each algorithm, ensure that you:\n",
        "  - Display: 1) the best model and 2) the best score that was obtained.\n",
        "  - Evaluate the scores from GridSearchCV for the training set and the test set to diagnose any bias-variance problems. Comment on the quality of the model.\n",
        "NOTE: seeing that you are analyzing healthcare data, ensure that you discuss what is the desired metric to evaluate the results based on the machine learning task e.g. accuracy, precision, recall, f1-score, MSE, R2, etc."
      ],
      "metadata": {
        "id": "EK1DMujwh6YE"
      }
    },
    {
      "cell_type": "markdown",
      "source": [
        "From the result of q6, we can get the best performance using balanced accuracy."
      ],
      "metadata": {
        "id": "aP4uLfMcdedn"
      }
    },
    {
      "cell_type": "code",
      "source": [
        "print(\"Best kNN model\")\n",
        "print(\"Best Params:\", knn_grid.best_params_)\n",
        "print(evaluate_model(knn_grid.best_estimator_, X_test_scaled, y_test))"
      ],
      "metadata": {
        "id": "whAgA3fhiCR3",
        "colab": {
          "base_uri": "https://localhost:8080/"
        },
        "outputId": "7e74839d-2a5b-4ab5-e4c0-aa10fdbb75b3"
      },
      "execution_count": null,
      "outputs": [
        {
          "output_type": "stream",
          "name": "stdout",
          "text": [
            "Best kNN model\n",
            "Best Params: {'n_neighbors': 3, 'weights': 'distance'}\n",
            "Balanced Accuracy: 0.396\n",
            "              precision    recall  f1-score   support\n",
            "\n",
            "     Healthy       0.87      0.92      0.89     42741\n",
            " Prediabetic       0.03      0.01      0.02       926\n",
            "    Diabetic       0.35      0.26      0.30      7069\n",
            "\n",
            "    accuracy                           0.81     50736\n",
            "   macro avg       0.41      0.40      0.40     50736\n",
            "weighted avg       0.78      0.81      0.79     50736\n",
            "\n",
            "R2 score:  -0.41418971188133114\n",
            "MSE:  0.6892935982339956\n",
            "MAE:  0.3580100914538001\n",
            "None\n"
          ]
        }
      ]
    },
    {
      "cell_type": "code",
      "source": [
        "print(\"Best CART model\")\n",
        "print(\"Best Params:\", tree_grid.best_params_)\n",
        "print(evaluate_model(tree_grid.best_estimator_, X_test, y_test))"
      ],
      "metadata": {
        "colab": {
          "base_uri": "https://localhost:8080/"
        },
        "id": "X_xtmwRplXsl",
        "outputId": "cc4ac7a8-9146-4609-da84-ece34de1428a"
      },
      "execution_count": null,
      "outputs": [
        {
          "output_type": "stream",
          "name": "stdout",
          "text": [
            "Best CART model\n",
            "Best Params: {'class_weight': 'balanced', 'criterion': 'entropy', 'max_depth': 5, 'min_samples_split': 10}\n",
            "Balanced Accuracy: 0.497\n",
            "              precision    recall  f1-score   support\n",
            "\n",
            "     Healthy       0.95      0.60      0.73     42741\n",
            " Prediabetic       0.02      0.26      0.05       926\n",
            "    Diabetic       0.32      0.63      0.42      7069\n",
            "\n",
            "    accuracy                           0.59     50736\n",
            "   macro avg       0.43      0.50      0.40     50736\n",
            "weighted avg       0.85      0.59      0.68     50736\n",
            "\n",
            "R2 score:  -1.065440006684283\n",
            "MSE:  1.0067210659098076\n",
            "MAE:  0.6057434563229265\n",
            "None\n"
          ]
        }
      ]
    },
    {
      "cell_type": "code",
      "source": [
        "print(\"Best logistic regression model\")\n",
        "print(\"Best Params:\", logreg_grid.best_params_)\n",
        "print(evaluate_model(logreg_grid.best_estimator_, X_test_poly, y_test))"
      ],
      "metadata": {
        "colab": {
          "base_uri": "https://localhost:8080/"
        },
        "id": "PdjH51X2lcox",
        "outputId": "35956c1c-a6f4-4065-b333-8a3874efc4b4"
      },
      "execution_count": null,
      "outputs": [
        {
          "output_type": "stream",
          "name": "stdout",
          "text": [
            "Best logistic regression model\n",
            "Best Params: {'C': 1, 'penalty': 'l2'}\n",
            "Balanced Accuracy: 0.383\n",
            "              precision    recall  f1-score   support\n",
            "\n",
            "     Healthy       0.86      0.98      0.92     42741\n",
            " Prediabetic       0.00      0.00      0.00       926\n",
            "    Diabetic       0.55      0.17      0.26      7069\n",
            "\n",
            "    accuracy                           0.85     50736\n",
            "   macro avg       0.47      0.38      0.39     50736\n",
            "weighted avg       0.80      0.85      0.81     50736\n",
            "\n",
            "R2 score:  -0.13444121517553653\n",
            "MSE:  0.5529407127089246\n",
            "MAE:  0.2855960264900662\n",
            "None\n"
          ]
        }
      ]
    },
    {
      "cell_type": "code",
      "source": [
        "print(\"Best GNB model\")\n",
        "print(\"Best Params:\", gnb_grid.best_params_)\n",
        "print(evaluate_model(gnb_grid.best_estimator_, X_test_poly, y_test))"
      ],
      "metadata": {
        "colab": {
          "base_uri": "https://localhost:8080/"
        },
        "id": "RHdZITpqlg55",
        "outputId": "065dc397-ae09-45db-e8a8-8ff6c34c451f"
      },
      "execution_count": null,
      "outputs": [
        {
          "output_type": "stream",
          "name": "stdout",
          "text": [
            "Best GNB model\n",
            "Best Params: {'var_smoothing': 1e-09}\n",
            "Balanced Accuracy: 0.443\n",
            "              precision    recall  f1-score   support\n",
            "\n",
            "     Healthy       0.89      0.82      0.86     42741\n",
            " Prediabetic       0.03      0.07      0.04       926\n",
            "    Diabetic       0.33      0.44      0.38      7069\n",
            "\n",
            "    accuracy                           0.75     50736\n",
            "   macro avg       0.42      0.44      0.43     50736\n",
            "weighted avg       0.80      0.75      0.77     50736\n",
            "\n",
            "R2 score:  -0.645938574937259\n",
            "MSE:  0.8022508672343109\n",
            "MAE:  0.43166587827183855\n",
            "None\n"
          ]
        }
      ]
    },
    {
      "cell_type": "markdown",
      "source": [
        "From the result above, we can see four models have their own highlights."
      ],
      "metadata": {
        "id": "-5-ez0V0v4cl"
      }
    },
    {
      "cell_type": "markdown",
      "source": [
        "### Performance of each model"
      ],
      "metadata": {
        "id": "DWQQPuLCzAEa"
      }
    },
    {
      "cell_type": "markdown",
      "source": [
        "CART Model:\n",
        "If you aim for overall balance—where each category receives reasonable attention—the CART model seems promising due to its highest balanced accuracy of 0.497. Its aggressive recall for the Diabetic class (63%) means it is more effective at identifying diabetic patients. However, a downside is that its recall for the Healthy class is somewhat lower, which may lead to some healthy individuals being misclassified as diseased.\n",
        "\n",
        "Logistic Regression Model:\n",
        "While Logistic Regression reports a high overall accuracy (85%) and nearly perfect performance in classifying Healthy individuals, its complete failure in capturing Prediabetic cases and its very poor performance for the Diabetic class undermine its utility for disease detection purposes. Therefore, despite its strong performance for one category, it does not offer a balanced solution for the entire problem.\n",
        "\n",
        "Gaussian Naive Bayes (GNB):\n",
        "GNB demonstrates a more balanced performance overall when compared to Logistic Regression, achieving moderate results for both Healthy and Diabetic classes. However, like the other models, it falls short in detecting Prediabetic cases.\n",
        "\n",
        "kNN Model:\n",
        "The kNN model shows robust performance in classifying Healthy individuals, but its predictions for the minority classes (Prediabetic and Diabetic) are severely lacking, making it less ideal when comprehensive disease detection is necessary."
      ],
      "metadata": {
        "id": "Az6o06WPy2h9"
      }
    },
    {
      "cell_type": "markdown",
      "source": [
        "### Conclusion"
      ],
      "metadata": {
        "id": "rDk23YDhzMpJ"
      }
    },
    {
      "cell_type": "markdown",
      "source": [
        "For detecting Diabetic patients:\n",
        "If your primary objective is to ensure that diabetic patients are identified as accurately as possible—even at the cost of mistakenly classifying some healthy individuals—the CART model demonstrates a competitive advantage, particularly with its high recall in the Diabetic category.\n",
        "\n",
        "For confirming healthy individuals:\n",
        "When the focus is on accurately confirming healthy cases, Logistic Regression appears to be the most reliable choice, especially given that Healthy individuals constitute the majority of the data. However, its glaring shortcomings in detecting disease states (Prediabetic and Diabetic) mean that additional strategies, such as data resampling or class weighting, might be necessary if disease detection is crucial.\n",
        "\n",
        "Overall Strategy:\n",
        "In dealing with such an imbalanced dataset, no single conventional model seems to excel across all classes. Therefore, combining model tuning with advanced techniques—like SMOTE, adjusting sample weights, or even employing ensemble methods—could significantly enhance the identification of minority classes (especially Prediabetic)."
      ],
      "metadata": {
        "id": "iDkVRC0szRux"
      }
    },
    {
      "cell_type": "markdown",
      "source": [
        "**In summary**, if the goal is a balanced overall performance with an emphasis on capturing diabetic cases, the **CART** model is currently the best candidate. For a scenario where confirming Healthy status is of the utmost importance, **Logistic Regression** might suffice—provided that further efforts are made to address its deficiencies in predicting disease states."
      ],
      "metadata": {
        "id": "8DVgTYB6zqyO"
      }
    },
    {
      "cell_type": "markdown",
      "source": [
        "## Question 8:\n",
        "- Discuss the potential impacts of your solution. Who will benefit from (and/or who will be affected by) your solution and why.\n",
        "\n",
        "- Were there any concerns of bias in the ML modeling seeing that you were analyzing sensitive data? Create visualizations to share any analysis of bias in the training data and/or the predictions from the model. For example: you can compare and contrast the predictions for specific groups to demonstrate your findings. Provide recommendations on techniques to address any issues that were found.\n",
        "Note: you are welcome to use libraries to perform the analysis."
      ],
      "metadata": {
        "id": "QOxstUw6iC2H"
      }
    },
    {
      "cell_type": "markdown",
      "source": [
        "### Potential Impacts and Benefits\n",
        "**Beneficiaries**:\n",
        "\n",
        "Patients: Better screening for diabetes (both diabetic and prediabetic) can lead to earlier treatments.\n",
        "\n",
        "Doctors and Medical Staff: More information from the model may help in decision making and prioritizing patients.\n",
        "\n",
        "Healthcare System: Early detection may reduce costs later on by treating conditions before they become severe.\n",
        "\n",
        "**People Affected**:\n",
        "\n",
        "Patients misclassified: If the model does not recognize a prediabetic or diabetic patient correctly, they might not get the treatment they need.\n",
        "\n",
        "Minority groups: If some groups (for example, based on age, gender, or race) are under-represented or if the model is biased, those patients may receive worse predictions.\n",
        "\n"
      ],
      "metadata": {
        "id": "vWDlYmlI03ax"
      }
    },
    {
      "cell_type": "markdown",
      "source": [
        "### Bias in the ML Modeling\n",
        "Some bias to note:\n",
        "\n",
        "**The data we used is very imbalanced.**\n",
        "\n",
        "**The majority of the patients are Healthy.**\n",
        "\n",
        "**The Prediabetic and Diabetic groups have far fewer samples.**\n",
        "\n",
        "**This imbalance means the model may favor the Healthy class and ignore or poorly predict the smaller groups.**\n",
        "\n",
        "There could be bias if the training data has hidden differences between specific groups (for example, differences based on gender, age, or race) that are not addressed."
      ],
      "metadata": {
        "id": "OI9RB55l1MY-"
      }
    },
    {
      "cell_type": "code",
      "source": [
        "plt.pie([42741, 926, 7069], labels=['Healthy', 'Prediabetic', 'Diabetic'], autopct='%1.1f%%')\n",
        "plt.title('Class distribution in train data')\n",
        "plt.show()"
      ],
      "metadata": {
        "colab": {
          "base_uri": "https://localhost:8080/",
          "height": 428
        },
        "id": "uDs0FBsL1PDC",
        "outputId": "ea4b2271-eec2-45e1-b340-01e59d07bf01"
      },
      "execution_count": null,
      "outputs": [
        {
          "output_type": "display_data",
          "data": {
            "text/plain": [
              "<Figure size 640x480 with 1 Axes>"
            ],
            "image/png": "[encoded data removed]"
          },
          "metadata": {}
        }
      ]
    },
    {
      "cell_type": "code",
      "source": [
        "counts = y_train.value_counts()\n",
        "class_mapping = {0: 'Healthy', 1: 'Prediabetic', 2: 'Diabetic'}\n",
        "counts.index = counts.index.map(class_mapping)\n",
        "\n",
        "counts.plot(kind='bar')\n",
        "plt.title('Class Distribution train data')\n",
        "plt.xlabel('Class')\n",
        "plt.ylabel('Count')\n",
        "plt.show()"
      ],
      "metadata": {
        "colab": {
          "base_uri": "https://localhost:8080/",
          "height": 536
        },
        "id": "OTIJEH9y45vk",
        "outputId": "df8e4f54-9eb8-4430-8389-8b8b53285683"
      },
      "execution_count": null,
      "outputs": [
        {
          "output_type": "display_data",
          "data": {
            "text/plain": [
              "<Figure size 640x480 with 1 Axes>"
            ],
            "image/png": "[encoded data removed]"
          },
          "metadata": {}
        }
      ]
    },
    {
      "cell_type": "markdown",
      "source": [
        "### Recommendation\n",
        "1. add number of sample for 'diabetic' and 'prediabetic'\n",
        "2. Use SVM or BalancedRandomForest that are able to handle unbalanced class or to deal with multiple features\n",
        "3. Use external library like `AIF360` that can help detect and mitigate bias (https://pypi.org/project/aif360/)"
      ],
      "metadata": {
        "id": "vIJHLnQX6xsw"
      }
    }
  ],
  "metadata": {
    "kernelspec": {
      "display_name": "Python 3",
      "name": "python3"
    },
    "language_info": {
      "codemirror_mode": {
        "name": "ipython",
        "version": 3
      },
      "file_extension": ".py",
      "mimetype": "text/x-python",
      "name": "python",
      "nbconvert_exporter": "python",
      "pygments_lexer": "ipython3",
      "version": "3.12.7"
    },
    "colab": {
      "provenance": []
    }
  },
  "nbformat": 4,
  "nbformat_minor": 0
}